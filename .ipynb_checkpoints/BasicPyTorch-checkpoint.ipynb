{
 "cells": [
  {
   "cell_type": "code",
   "execution_count": 1,
   "id": "a6866914",
   "metadata": {},
   "outputs": [],
   "source": [
    "import torch\n",
    "import numpy as np\n",
    "import matplotlib.pyplot as plt"
   ]
  },
  {
   "cell_type": "code",
   "execution_count": 2,
   "id": "71bacfac",
   "metadata": {},
   "outputs": [
    {
     "data": {
      "text/plain": [
       "'1.12.1'"
      ]
     },
     "execution_count": 2,
     "metadata": {},
     "output_type": "execute_result"
    }
   ],
   "source": [
    "torch.__version__"
   ]
  },
  {
   "cell_type": "code",
   "execution_count": 3,
   "id": "bc5e7dfd",
   "metadata": {},
   "outputs": [
    {
     "data": {
      "text/plain": [
       "False"
      ]
     },
     "execution_count": 3,
     "metadata": {},
     "output_type": "execute_result"
    }
   ],
   "source": [
    "torch.cuda.is_available()"
   ]
  },
  {
   "cell_type": "code",
   "execution_count": 4,
   "id": "8305bd33",
   "metadata": {},
   "outputs": [
    {
     "data": {
      "text/plain": [
       "tensor([ 6., 15.])"
      ]
     },
     "execution_count": 4,
     "metadata": {},
     "output_type": "execute_result"
    }
   ],
   "source": [
    "A = torch.FloatTensor([[1,2,3],[4,5,6]])\n",
    "A.sum(axis=1)"
   ]
  },
  {
   "cell_type": "code",
   "execution_count": 7,
   "id": "f83df463",
   "metadata": {},
   "outputs": [
    {
     "data": {
      "text/plain": [
       "tensor([[0., 0., 3.],\n",
       "        [4., 0., 5.]])"
      ]
     },
     "execution_count": 7,
     "metadata": {},
     "output_type": "execute_result"
    }
   ],
   "source": [
    "i = torch.LongTensor([[0,1,1], [2,0,2]])\n",
    "v = torch.FloatTensor([3,4,5])\n",
    "torch.sparse.FloatTensor(i, v, torch.Size([2,3])).to_dense()"
   ]
  },
  {
   "cell_type": "code",
   "execution_count": 11,
   "id": "ad53e5bf",
   "metadata": {},
   "outputs": [
    {
     "name": "stdout",
     "output_type": "stream",
     "text": [
      "tensor(16., grad_fn=<PowBackward0>)\n",
      "<PowBackward0 object at 0x7fab67edec20>\n",
      "tensor(8.)\n"
     ]
    }
   ],
   "source": [
    "x = torch.tensor(4.0, requires_grad=True)\n",
    "y = x ** 2\n",
    "\n",
    "print(y)\n",
    "print(y.grad_fn)\n",
    "\n",
    "y.backward()\n",
    "\n",
    "print(x.grad)"
   ]
  },
  {
   "cell_type": "code",
   "execution_count": 15,
   "id": "970c7b64",
   "metadata": {},
   "outputs": [
    {
     "name": "stdout",
     "output_type": "stream",
     "text": [
      "x\n",
      "data: 1.0\n",
      "requires_grad: True\n",
      "grad: {i.grad}\n",
      "grad_fn: {i.grad_fn}\n",
      "is_leaf: {i.is_leaf}\n",
      "\n",
      "y\n",
      "data: 2.0\n",
      "requires_grad: False\n",
      "grad: {i.grad}\n",
      "grad_fn: {i.grad_fn}\n",
      "is_leaf: {i.is_leaf}\n",
      "\n",
      "z\n",
      "data: 2.0\n",
      "requires_grad: True\n",
      "grad: {i.grad}\n",
      "grad_fn: {i.grad_fn}\n",
      "is_leaf: {i.is_leaf}\n",
      "\n"
     ]
    }
   ],
   "source": [
    "x = torch.tensor(1.0, requires_grad=True)\n",
    "y = torch.tensor(2.0)\n",
    "\n",
    "z = x * y\n",
    "\n",
    "for i, name in zip([x, y, z], 'xyz'):\n",
    "    print(f'{name}\\ndata: {i.data}\\nrequires_grad: {i.requires_grad}\\n' + 'grad: {i.grad}\\ngrad_fn: {i.grad_fn}\\nis_leaf: {i.is_leaf}\\n')"
   ]
  },
  {
   "cell_type": "code",
   "execution_count": 17,
   "id": "8134a1b3",
   "metadata": {},
   "outputs": [
    {
     "name": "stdout",
     "output_type": "stream",
     "text": [
      "z grad function: <AddBackward0 object at 0x7fab68c94b80>\n",
      "loss grad function: <BinaryCrossEntropyWithLogitsBackward0 object at 0x7fab674cf880>\n"
     ]
    }
   ],
   "source": [
    "x = torch.ones(5)\n",
    "y = torch.zeros(3)\n",
    "w = torch.randn(5, 3, requires_grad=True)\n",
    "b = torch.randn(3, requires_grad=True)\n",
    "z = torch.matmul(x, w) + b\n",
    "loss = torch.nn.functional.binary_cross_entropy_with_logits(z, y)\n",
    "\n",
    "print('z grad function:', z.grad_fn)\n",
    "print('loss grad function:', loss.grad_fn)"
   ]
  },
  {
   "cell_type": "code",
   "execution_count": 23,
   "id": "1bc2f085",
   "metadata": {},
   "outputs": [
    {
     "name": "stdout",
     "output_type": "stream",
     "text": [
      "tensor([[0.3263, 0.2932, 0.3293],\n",
      "        [0.3263, 0.2932, 0.3293],\n",
      "        [0.3263, 0.2932, 0.3293],\n",
      "        [0.3263, 0.2932, 0.3293],\n",
      "        [0.3263, 0.2932, 0.3293]])\n",
      "tensor([0.3263, 0.2932, 0.3293])\n"
     ]
    }
   ],
   "source": [
    "loss.backward()\n",
    "print(w.grad)\n",
    "print(b.grad)"
   ]
  },
  {
   "cell_type": "code",
   "execution_count": 31,
   "id": "2baaf52c",
   "metadata": {},
   "outputs": [
    {
     "name": "stdout",
     "output_type": "stream",
     "text": [
      "tensor(75.)\n",
      "tensor(150.)\n",
      "tensor(225.)\n"
     ]
    }
   ],
   "source": [
    "x = torch.tensor(5.0, requires_grad=True)\n",
    "y = x ** 3\n",
    "\n",
    "y.backward(retain_graph=True)\n",
    "print(x.grad)\n",
    "y.backward(retain_graph=True)\n",
    "print(x.grad)\n",
    "y.backward(retain_graph=True)\n",
    "print(x.grad)"
   ]
  },
  {
   "cell_type": "code",
   "execution_count": 35,
   "id": "741cf093",
   "metadata": {},
   "outputs": [
    {
     "name": "stdout",
     "output_type": "stream",
     "text": [
      "tensor(75.)\n",
      "tensor(75.)\n",
      "tensor(75.)\n"
     ]
    }
   ],
   "source": [
    "x = torch.tensor(5.0, requires_grad=True)\n",
    "y = x ** 3\n",
    "\n",
    "y.backward(retain_graph=True)\n",
    "print(x.grad)\n",
    "x.grad.zero_()\n",
    "y.backward(retain_graph=True)\n",
    "print(x.grad)\n",
    "x.grad.zero_()\n",
    "y.backward(retain_graph=True)\n",
    "print(x.grad)"
   ]
  },
  {
   "cell_type": "code",
   "execution_count": 38,
   "id": "1ca167a1",
   "metadata": {},
   "outputs": [],
   "source": [
    "def func(x):\n",
    "    return x ** 2\n",
    "\n",
    "def dfunc(x):\n",
    "    x = torch.tensor(float(x), requires_grad=True)\n",
    "    y = x ** 2\n",
    "    y.backward()\n",
    "    return x.grad\n",
    "\n",
    "def GD(x_start, df, epochs, lr):\n",
    "    xs = np.zeros(epochs + 1)\n",
    "    x = x_start\n",
    "    xs[0] = x\n",
    "    for i in range(epochs):\n",
    "        dx = df(x)\n",
    "        x += - dx * lr\n",
    "        xs[i + 1] = x\n",
    "    return xs"
   ]
  },
  {
   "cell_type": "code",
   "execution_count": 40,
   "id": "d4009a6f",
   "metadata": {},
   "outputs": [
    {
     "name": "stdout",
     "output_type": "stream",
     "text": [
      "[5.   2.   0.8  0.32 0.13 0.05 0.02 0.01 0.   0.   0.   0.   0.   0.\n",
      " 0.   0.  ]\n"
     ]
    },
    {
     "data": {
      "image/png": "[encoded data removed]",
      "text/plain": [
       "<Figure size 432x288 with 1 Axes>"
      ]
     },
     "metadata": {
      "needs_background": "light"
     },
     "output_type": "display_data"
    }
   ],
   "source": [
    "x_start = 5\n",
    "epochs = 15\n",
    "lr = 0.3\n",
    "w = GD(x_start, dfunc, epochs, lr)\n",
    "print(np.around(w, 2))\n",
    "\n",
    "t = np.arange(-6.0, 6.0, 0.01)\n",
    "plt.plot(t, func(t), c='b')\n",
    "plt.plot(w, func(w), c='r', marker='o', markersize=5)\n",
    "plt.show()"
   ]
  },
  {
   "cell_type": "code",
   "execution_count": 45,
   "id": "8ec58f0d",
   "metadata": {},
   "outputs": [],
   "source": [
    "def func(x):\n",
    "    return 2*x**4 - 3*x**2 + 2*x - 20\n",
    "\n",
    "def dfunc(x):\n",
    "    x = torch.tensor(float(x), requires_grad=True)\n",
    "    y = 2*x**4 - 3*x**2 + 2*x - 20\n",
    "    y.backward()\n",
    "    return x.grad"
   ]
  },
  {
   "cell_type": "code",
   "execution_count": 46,
   "id": "71ceab3e",
   "metadata": {},
   "outputs": [
    {
     "name": "stdout",
     "output_type": "stream",
     "text": [
      "[5.   4.03 3.53 ... 0.51 0.51 0.51]\n"
     ]
    },
    {
     "data": {
      "image/png": "[encoded data removed]",
      "text/plain": [
       "<Figure size 432x288 with 1 Axes>"
      ]
     },
     "metadata": {
      "needs_background": "light"
     },
     "output_type": "display_data"
    }
   ],
   "source": [
    "x_start = 5\n",
    "epochs = 15000\n",
    "lr = 0.001\n",
    "w = GD(x_start, dfunc, epochs, lr)\n",
    "print(np.around(w, 2))\n",
    "\n",
    "t = np.arange(-6.0, 6.0, 0.01)\n",
    "plt.plot(t, func(t), c='b')\n",
    "plt.plot(w, func(w), c='r', marker='o', markersize=5)\n",
    "plt.show()"
   ]
  },
  {
   "cell_type": "code",
   "execution_count": 6,
   "id": "05a96584",
   "metadata": {},
   "outputs": [],
   "source": [
    "def train(X, y, epochs=100, lr=0.0001):\n",
    "    loss_list, w_list, b_list = [], [], []\n",
    "    w = torch.randn(1, requires_grad=True, dtype=torch.float)\n",
    "    b = torch.randn(1, requires_grad=True, dtype=torch.float)\n",
    "    for epoch in range(epochs):\n",
    "        y_pred = w * X + b\n",
    "        MSE = torch.mean(torch.square(y_pred - y))\n",
    "        MSE.backward()\n",
    "        \n",
    "        with torch.no_grad():\n",
    "            w -= lr * w.grad\n",
    "            b -= lr * b.grad\n",
    "            w_list.append(w.item())\n",
    "            b_list.append(b.item())\n",
    "            loss_list.append(MSE.item())\n",
    "            \n",
    "            w.grad.zero_()\n",
    "            b.grad.zero_()\n",
    "            \n",
    "    return w_list, b_list, loss_list"
   ]
  },
  {
   "cell_type": "code",
   "execution_count": 4,
   "id": "f69ed0fa",
   "metadata": {},
   "outputs": [],
   "source": [
    "n = 100\n",
    "X = np.linspace(0, 50, n)\n",
    "y = np.linspace(0, 50, n)\n",
    "\n",
    "X += np.random.uniform(-10, 10, n)\n",
    "y += np.random.uniform(-10, 10, n)"
   ]
  },
  {
   "cell_type": "code",
   "execution_count": 7,
   "id": "23f24abe",
   "metadata": {},
   "outputs": [
    {
     "name": "stdout",
     "output_type": "stream",
     "text": [
      "w=0.9481971859931946, b=-1.2882739305496216\n"
     ]
    },
    {
     "name": "stderr",
     "output_type": "stream",
     "text": [
      "C:\\Users\\Admin\\Anaconda3\\envs\\pytorch\\lib\\site-packages\\torch\\autograd\\__init__.py:132: UserWarning: CUDA initialization: The NVIDIA driver on your system is too old (found version 8000). Please update your GPU driver by downloading and installing a new version from the URL: http://www.nvidia.com/Download/index.aspx Alternatively, go to: https://pytorch.org to install a PyTorch version that has been compiled with your version of the CUDA driver. (Triggered internally at  ..\\c10\\cuda\\CUDAFunctions.cpp:100.)\n",
      "  allow_unreachable=True)  # allow_unreachable flag\n"
     ]
    }
   ],
   "source": [
    "w_list, b_list, loss_list = train(torch.tensor(X), torch.tensor(y))\n",
    "print(f'w={w_list[-1]}, b={b_list[-1]}')"
   ]
  },
  {
   "cell_type": "code",
   "execution_count": 8,
   "id": "ed9181d1",
   "metadata": {},
   "outputs": [
    {
     "name": "stdout",
     "output_type": "stream",
     "text": [
      "w=0.8297072052955627, b=2.882154703140259\n"
     ]
    }
   ],
   "source": [
    "w_list, b_list, loss_list = train(torch.tensor(X), torch.tensor(y), epochs=100000)\n",
    "print(f'w={w_list[-1]}, b={b_list[-1]}')"
   ]
  },
  {
   "cell_type": "code",
   "execution_count": 9,
   "id": "103e7a77",
   "metadata": {},
   "outputs": [
    {
     "name": "stdout",
     "output_type": "stream",
     "text": [
      "w=0.8294092046090223, b=2.8926404625332602\n"
     ]
    }
   ],
   "source": [
    "coef = np.polyfit(X, y, deg=1)\n",
    "print(f'w={coef[0]}, b={coef[1]}')"
   ]
  },
  {
   "cell_type": "code",
   "execution_count": 10,
   "id": "79a43fce",
   "metadata": {},
   "outputs": [
    {
     "data": {
      "text/plain": [
       "<matplotlib.legend.Legend at 0x1fd37493cc0>"
      ]
     },
     "execution_count": 10,
     "metadata": {},
     "output_type": "execute_result"
    },
    {
     "data": {
      "image/png": "[encoded data removed]",
      "text/plain": [
       "<Figure size 432x288 with 1 Axes>"
      ]
     },
     "metadata": {
      "needs_background": "light"
     },
     "output_type": "display_data"
    }
   ],
   "source": [
    "plt.scatter(X, y, label='data')\n",
    "plt.plot(X, w_list[-1] * X + b_list[-1], 'r-', label='predicted')\n",
    "plt.legend()"
   ]
  },
  {
   "cell_type": "code",
   "execution_count": null,
   "id": "ace6b848",
   "metadata": {},
   "outputs": [],
   "source": []
  }
 ],
 "metadata": {
  "kernelspec": {
   "display_name": "Python 3",
   "language": "python",
   "name": "python3"
  },
  "language_info": {
   "codemirror_mode": {
    "name": "ipython",
    "version": 3
   },
   "file_extension": ".py",
   "mimetype": "text/x-python",
   "name": "python",
   "nbconvert_exporter": "python",
   "pygments_lexer": "ipython3",
   "version": "3.6.13"
  }
 },
 "nbformat": 4,
 "nbformat_minor": 5
}
