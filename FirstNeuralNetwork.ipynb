{
 "cells": [
  {
   "cell_type": "code",
   "execution_count": 7,
   "id": "d567a9e9",
   "metadata": {},
   "outputs": [],
   "source": [
    "%config Completer.use_jedi = False"
   ]
  },
  {
   "cell_type": "markdown",
   "id": "31568549",
   "metadata": {},
   "source": [
    "## MNIST Lightning Short Code"
   ]
  },
  {
   "cell_type": "code",
   "execution_count": 11,
   "id": "52540320",
   "metadata": {},
   "outputs": [],
   "source": [
    "import torch\n",
    "from pytorch_lightning import LightningModule, Trainer\n",
    "from torchvision.datasets import MNIST\n",
    "from torchvision import transforms\n",
    "from torch.utils.data import DataLoader"
   ]
  },
  {
   "cell_type": "code",
   "execution_count": 2,
   "id": "e939f2ed",
   "metadata": {},
   "outputs": [
    {
     "name": "stderr",
     "output_type": "stream",
     "text": [
      "C:\\Users\\Admin\\Anaconda3\\envs\\pytorch\\lib\\site-packages\\torch\\cuda\\__init__.py:52: UserWarning: CUDA initialization: The NVIDIA driver on your system is too old (found version 8000). Please update your GPU driver by downloading and installing a new version from the URL: http://www.nvidia.com/Download/index.aspx Alternatively, go to: https://pytorch.org to install a PyTorch version that has been compiled with your version of the CUDA driver. (Triggered internally at  ..\\c10\\cuda\\CUDAFunctions.cpp:100.)\n",
      "  return torch._C._cuda_getDeviceCount() > 0\n"
     ]
    }
   ],
   "source": [
    "PATH_DATASETS = ''\n",
    "AVAIL_GPUS = min(1, torch.cuda.device_count())\n",
    "BATCH_SIZE = 256 if AVAIL_GPUS else 64"
   ]
  },
  {
   "cell_type": "code",
   "execution_count": 6,
   "id": "7a42705b",
   "metadata": {},
   "outputs": [],
   "source": [
    "class MNISTModel(LightningModule):\n",
    "    def __init__(self):\n",
    "        super().__init__()\n",
    "        self.l1 = torch.nn.Linear(28 * 28, 10)\n",
    "        \n",
    "    def forward(self, x):\n",
    "        return torch.relu(self.l1(x.view(x.size(0), -1)))\n",
    "    \n",
    "    def training_step(self, batch, batch_nb):\n",
    "        x, y = batch\n",
    "        loss = torch.nn.functional.cross_entropy(self(x), y)\n",
    "        return loss\n",
    "    \n",
    "    def configure_optimizers(self):\n",
    "        return torch.optim.Adam(self.parameters(), lr=0.02)"
   ]
  },
  {
   "cell_type": "code",
   "execution_count": 12,
   "id": "4c85b138",
   "metadata": {},
   "outputs": [
    {
     "name": "stderr",
     "output_type": "stream",
     "text": [
      "GPU available: False, used: False\n",
      "TPU available: False, using: 0 TPU cores\n",
      "IPU available: False, using: 0 IPUs\n",
      "Missing logger folder: D:\\DanielTsai\\Code\\PyTorchBook\\lightning_logs\n",
      "\n",
      "  | Name | Type   | Params\n",
      "--------------------------------\n",
      "0 | l1   | Linear | 7.9 K \n",
      "--------------------------------\n",
      "7.9 K     Trainable params\n",
      "0         Non-trainable params\n",
      "7.9 K     Total params\n",
      "0.031     Total estimated model params size (MB)\n",
      "C:\\Users\\Admin\\Anaconda3\\envs\\pytorch\\lib\\site-packages\\pytorch_lightning\\trainer\\data_loading.py:133: UserWarning: The dataloader, train_dataloader, does not have many workers which may be a bottleneck. Consider increasing the value of the `num_workers` argument` (try 4 which is the number of cpus on this machine) in the `DataLoader` init to improve performance.\n",
      "  f\"The dataloader, {name}, does not have many workers which may be a bottleneck.\"\n"
     ]
    },
    {
     "data": {
      "application/vnd.jupyter.widget-view+json": {
       "model_id": "05a9e41d69684c0f8fd1eaf3d1c4f0c8",
       "version_major": 2,
       "version_minor": 0
      },
      "text/plain": [
       "Training: 0it [00:00, ?it/s]"
      ]
     },
     "metadata": {},
     "output_type": "display_data"
    }
   ],
   "source": [
    "train_ds = MNIST(PATH_DATASETS, train=True, download=True, transform=transforms.ToTensor())\n",
    "mnist_model = MNISTModel()\n",
    "train_loader = DataLoader(train_ds, batch_size=BATCH_SIZE)\n",
    "trainer = Trainer(gpus=AVAIL_GPUS, max_epochs=3)\n",
    "trainer.fit(mnist_model, train_loader)"
   ]
  },
  {
   "cell_type": "markdown",
   "id": "b6edbadb",
   "metadata": {},
   "source": [
    "## MNIST Full Code"
   ]
  },
  {
   "cell_type": "code",
   "execution_count": 13,
   "id": "a8623d50",
   "metadata": {},
   "outputs": [],
   "source": [
    "import torch\n",
    "import numpy as np\n",
    "import matplotlib.pyplot as plt\n",
    "from torchvision.datasets import MNIST\n",
    "from torchvision import transforms\n",
    "from torch.utils.data import DataLoader"
   ]
  },
  {
   "cell_type": "code",
   "execution_count": 2,
   "id": "ad3d238d",
   "metadata": {},
   "outputs": [
    {
     "name": "stderr",
     "output_type": "stream",
     "text": [
      "c:\\Users\\Admin\\Anaconda3\\envs\\pytorch\\lib\\site-packages\\torch\\cuda\\__init__.py:52: UserWarning: CUDA initialization: The NVIDIA driver on your system is too old (found version 8000). Please update your GPU driver by downloading and installing a new version from the URL: http://www.nvidia.com/Download/index.aspx Alternatively, go to: https://pytorch.org to install a PyTorch version that has been compiled with your version of the CUDA driver. (Triggered internally at  ..\\c10\\cuda\\CUDAFunctions.cpp:100.)\n",
      "  return torch._C._cuda_getDeviceCount() > 0\n"
     ]
    },
    {
     "data": {
      "text/plain": [
       "'cpu'"
      ]
     },
     "execution_count": 2,
     "metadata": {},
     "output_type": "execute_result"
    }
   ],
   "source": [
    "PATH_DATASETS = ''\n",
    "BATCH_SIZE = 1024\n",
    "device = torch.device('cuda' if torch.cuda.is_available() else 'cpu')\n",
    "'cuda' if torch.cuda.is_available() else 'cpu'"
   ]
  },
  {
   "cell_type": "code",
   "execution_count": 16,
   "id": "42a5439c",
   "metadata": {},
   "outputs": [
    {
     "name": "stdout",
     "output_type": "stream",
     "text": [
      "torch.Size([60000, 28, 28]) torch.Size([10000, 28, 28])\n"
     ]
    }
   ],
   "source": [
    "train_ds = MNIST(PATH_DATASETS, train=True, download=True, transform=transforms.ToTensor())\n",
    "test_ds = MNIST(PATH_DATASETS, train=False, download=True, transform=transforms.ToTensor())\n",
    "print(train_ds.data.shape, test_ds.data.shape)"
   ]
  },
  {
   "cell_type": "code",
   "execution_count": 18,
   "id": "42744a0f",
   "metadata": {},
   "outputs": [
    {
     "data": {
      "text/plain": [
       "tensor([5, 0, 4, 1, 9, 2, 1, 3, 1, 4])"
      ]
     },
     "execution_count": 18,
     "metadata": {},
     "output_type": "execute_result"
    }
   ],
   "source": [
    "train_ds.targets[:10]"
   ]
  },
  {
   "cell_type": "code",
   "execution_count": 19,
   "id": "89acc1d9",
   "metadata": {},
   "outputs": [
    {
     "data": {
      "text/plain": [
       "tensor([[  0,   0,   0,   0,   0,   0,   0,   0,   0,   0,   0,   0,   0,   0,\n",
       "           0,   0,   0,   0,   0,   0,   0,   0,   0,   0,   0,   0,   0,   0],\n",
       "        [  0,   0,   0,   0,   0,   0,   0,   0,   0,   0,   0,   0,   0,   0,\n",
       "           0,   0,   0,   0,   0,   0,   0,   0,   0,   0,   0,   0,   0,   0],\n",
       "        [  0,   0,   0,   0,   0,   0,   0,   0,   0,   0,   0,   0,   0,   0,\n",
       "           0,   0,   0,   0,   0,   0,   0,   0,   0,   0,   0,   0,   0,   0],\n",
       "        [  0,   0,   0,   0,   0,   0,   0,   0,   0,   0,   0,   0,   0,   0,\n",
       "           0,   0,   0,   0,   0,   0,   0,   0,   0,   0,   0,   0,   0,   0],\n",
       "        [  0,   0,   0,   0,   0,   0,   0,   0,   0,   0,   0,   0,   0,   0,\n",
       "           0,   0,   0,   0,   0,   0,   0,   0,   0,   0,   0,   0,   0,   0],\n",
       "        [  0,   0,   0,   0,   0,   0,   0,   0,   0,   0,   0,   0,   3,  18,\n",
       "          18,  18, 126, 136, 175,  26, 166, 255, 247, 127,   0,   0,   0,   0],\n",
       "        [  0,   0,   0,   0,   0,   0,   0,   0,  30,  36,  94, 154, 170, 253,\n",
       "         253, 253, 253, 253, 225, 172, 253, 242, 195,  64,   0,   0,   0,   0],\n",
       "        [  0,   0,   0,   0,   0,   0,   0,  49, 238, 253, 253, 253, 253, 253,\n",
       "         253, 253, 253, 251,  93,  82,  82,  56,  39,   0,   0,   0,   0,   0],\n",
       "        [  0,   0,   0,   0,   0,   0,   0,  18, 219, 253, 253, 253, 253, 253,\n",
       "         198, 182, 247, 241,   0,   0,   0,   0,   0,   0,   0,   0,   0,   0],\n",
       "        [  0,   0,   0,   0,   0,   0,   0,   0,  80, 156, 107, 253, 253, 205,\n",
       "          11,   0,  43, 154,   0,   0,   0,   0,   0,   0,   0,   0,   0,   0],\n",
       "        [  0,   0,   0,   0,   0,   0,   0,   0,   0,  14,   1, 154, 253,  90,\n",
       "           0,   0,   0,   0,   0,   0,   0,   0,   0,   0,   0,   0,   0,   0],\n",
       "        [  0,   0,   0,   0,   0,   0,   0,   0,   0,   0,   0, 139, 253, 190,\n",
       "           2,   0,   0,   0,   0,   0,   0,   0,   0,   0,   0,   0,   0,   0],\n",
       "        [  0,   0,   0,   0,   0,   0,   0,   0,   0,   0,   0,  11, 190, 253,\n",
       "          70,   0,   0,   0,   0,   0,   0,   0,   0,   0,   0,   0,   0,   0],\n",
       "        [  0,   0,   0,   0,   0,   0,   0,   0,   0,   0,   0,   0,  35, 241,\n",
       "         225, 160, 108,   1,   0,   0,   0,   0,   0,   0,   0,   0,   0,   0],\n",
       "        [  0,   0,   0,   0,   0,   0,   0,   0,   0,   0,   0,   0,   0,  81,\n",
       "         240, 253, 253, 119,  25,   0,   0,   0,   0,   0,   0,   0,   0,   0],\n",
       "        [  0,   0,   0,   0,   0,   0,   0,   0,   0,   0,   0,   0,   0,   0,\n",
       "          45, 186, 253, 253, 150,  27,   0,   0,   0,   0,   0,   0,   0,   0],\n",
       "        [  0,   0,   0,   0,   0,   0,   0,   0,   0,   0,   0,   0,   0,   0,\n",
       "           0,  16,  93, 252, 253, 187,   0,   0,   0,   0,   0,   0,   0,   0],\n",
       "        [  0,   0,   0,   0,   0,   0,   0,   0,   0,   0,   0,   0,   0,   0,\n",
       "           0,   0,   0, 249, 253, 249,  64,   0,   0,   0,   0,   0,   0,   0],\n",
       "        [  0,   0,   0,   0,   0,   0,   0,   0,   0,   0,   0,   0,   0,   0,\n",
       "          46, 130, 183, 253, 253, 207,   2,   0,   0,   0,   0,   0,   0,   0],\n",
       "        [  0,   0,   0,   0,   0,   0,   0,   0,   0,   0,   0,   0,  39, 148,\n",
       "         229, 253, 253, 253, 250, 182,   0,   0,   0,   0,   0,   0,   0,   0],\n",
       "        [  0,   0,   0,   0,   0,   0,   0,   0,   0,   0,  24, 114, 221, 253,\n",
       "         253, 253, 253, 201,  78,   0,   0,   0,   0,   0,   0,   0,   0,   0],\n",
       "        [  0,   0,   0,   0,   0,   0,   0,   0,  23,  66, 213, 253, 253, 253,\n",
       "         253, 198,  81,   2,   0,   0,   0,   0,   0,   0,   0,   0,   0,   0],\n",
       "        [  0,   0,   0,   0,   0,   0,  18, 171, 219, 253, 253, 253, 253, 195,\n",
       "          80,   9,   0,   0,   0,   0,   0,   0,   0,   0,   0,   0,   0,   0],\n",
       "        [  0,   0,   0,   0,  55, 172, 226, 253, 253, 253, 253, 244, 133,  11,\n",
       "           0,   0,   0,   0,   0,   0,   0,   0,   0,   0,   0,   0,   0,   0],\n",
       "        [  0,   0,   0,   0, 136, 253, 253, 253, 212, 135, 132,  16,   0,   0,\n",
       "           0,   0,   0,   0,   0,   0,   0,   0,   0,   0,   0,   0,   0,   0],\n",
       "        [  0,   0,   0,   0,   0,   0,   0,   0,   0,   0,   0,   0,   0,   0,\n",
       "           0,   0,   0,   0,   0,   0,   0,   0,   0,   0,   0,   0,   0,   0],\n",
       "        [  0,   0,   0,   0,   0,   0,   0,   0,   0,   0,   0,   0,   0,   0,\n",
       "           0,   0,   0,   0,   0,   0,   0,   0,   0,   0,   0,   0,   0,   0],\n",
       "        [  0,   0,   0,   0,   0,   0,   0,   0,   0,   0,   0,   0,   0,   0,\n",
       "           0,   0,   0,   0,   0,   0,   0,   0,   0,   0,   0,   0,   0,   0]],\n",
       "       dtype=torch.uint8)"
      ]
     },
     "execution_count": 19,
     "metadata": {},
     "output_type": "execute_result"
    }
   ],
   "source": [
    "train_ds.data[0]"
   ]
  },
  {
   "cell_type": "code",
   "execution_count": 21,
   "id": "e4f9744f",
   "metadata": {},
   "outputs": [
    {
     "data": {
      "text/plain": [
       "['0000000000000000000000000000',\n",
       " '0000000000000000000000000000',\n",
       " '0000000000000000000000000000',\n",
       " '0000000000000000000000000000',\n",
       " '0000000000000000000000000000',\n",
       " '0000000000001111111111110000',\n",
       " '0000000011111111111111110000',\n",
       " '0000000111111111111111100000',\n",
       " '0000000111111111110000000000',\n",
       " '0000000011111110110000000000',\n",
       " '0000000001111100000000000000',\n",
       " '0000000000011110000000000000',\n",
       " '0000000000011110000000000000',\n",
       " '0000000000001111110000000000',\n",
       " '0000000000000111111000000000',\n",
       " '0000000000000011111100000000',\n",
       " '0000000000000001111100000000',\n",
       " '0000000000000000011110000000',\n",
       " '0000000000000011111110000000',\n",
       " '0000000000001111111100000000',\n",
       " '0000000000111111111000000000',\n",
       " '0000000011111111110000000000',\n",
       " '0000001111111111000000000000',\n",
       " '0000111111111100000000000000',\n",
       " '0000111111110000000000000000',\n",
       " '0000000000000000000000000000',\n",
       " '0000000000000000000000000000',\n",
       " '0000000000000000000000000000']"
      ]
     },
     "execution_count": 21,
     "metadata": {},
     "output_type": "execute_result"
    }
   ],
   "source": [
    "number_img = train_ds.data[0].clone()\n",
    "number_img[number_img>0] = 1\n",
    "number_img = number_img.numpy()\n",
    "\n",
    "text_image = []\n",
    "for i in range(number_img.shape[0]):\n",
    "    text_image.append(''.join(number_img[i].astype(str)))\n",
    "text_image"
   ]
  },
  {
   "cell_type": "code",
   "execution_count": 27,
   "id": "8368dbbe",
   "metadata": {},
   "outputs": [
    {
     "data": {
      "image/png": "[encoded data removed]",
      "text/plain": [
       "<Figure size 432x288 with 1 Axes>"
      ]
     },
     "metadata": {
      "needs_background": "light"
     },
     "output_type": "display_data"
    }
   ],
   "source": [
    "import matplotlib.pyplot as plt\n",
    "\n",
    "X = train_ds.data[0]\n",
    "plt.imshow(X, cmap='gray')\n",
    "plt.axis('off')\n",
    "plt.show()"
   ]
  },
  {
   "cell_type": "markdown",
   "id": "45ad141f",
   "metadata": {},
   "source": [
    "### Features Transforms"
   ]
  },
  {
   "cell_type": "code",
   "execution_count": 3,
   "id": "4fc8b654",
   "metadata": {},
   "outputs": [],
   "source": [
    "train_ds = MNIST(PATH_DATASETS, train=True, download=True, transform=transforms.Compose([\n",
    "    transforms.ToTensor(),\n",
    "    transforms.Normalize((0.1307,), (0.3081,))\n",
    "]))\n",
    "test_ds = MNIST(PATH_DATASETS, train=False, download=True, transform=transforms.Compose([\n",
    "    transforms.ToTensor(),\n",
    "    transforms.Normalize((0.1307,), (0.3081,))\n",
    "]))"
   ]
  },
  {
   "cell_type": "code",
   "execution_count": 4,
   "id": "1c6d43d2",
   "metadata": {},
   "outputs": [],
   "source": [
    "model = torch.nn.Sequential(\n",
    "    torch.nn.Flatten(),\n",
    "    torch.nn.Linear(28 * 28, 256),\n",
    "    torch.nn.Dropout(0.2),\n",
    "    torch.nn.Linear(256, 10)\n",
    ").to(device)"
   ]
  },
  {
   "cell_type": "code",
   "execution_count": 5,
   "id": "f0afe715",
   "metadata": {},
   "outputs": [
    {
     "name": "stdout",
     "output_type": "stream",
     "text": [
      "Epoch 1: [    0 / 60000] (0 %)  Loss: 2.322334\n",
      "Epoch 1: [ 6000 / 60000] (10 %)  Loss: 1.291210\n",
      "Epoch 1: [12000 / 60000] (20 %)  Loss: 0.985873\n",
      "Epoch 1: [18000 / 60000] (30 %)  Loss: 0.749984\n",
      "Epoch 1: [24000 / 60000] (40 %)  Loss: 0.648254\n",
      "Epoch 1: [30000 / 60000] (50 %)  Loss: 0.658251\n",
      "Epoch 1: [36000 / 60000] (60 %)  Loss: 0.525631\n",
      "Epoch 1: [42000 / 60000] (70 %)  Loss: 0.583296\n",
      "Epoch 1: [48000 / 60000] (80 %)  Loss: 0.397493\n",
      "Epoch 1: [54000 / 60000] (90 %)  Loss: 0.426410\n",
      "Epoch 2: [    0 / 60000] (0 %)  Loss: 0.400928\n",
      "Epoch 2: [ 6000 / 60000] (10 %)  Loss: 0.318818\n",
      "Epoch 2: [12000 / 60000] (20 %)  Loss: 0.435584\n",
      "Epoch 2: [18000 / 60000] (30 %)  Loss: 0.329897\n",
      "Epoch 2: [24000 / 60000] (40 %)  Loss: 0.382373\n",
      "Epoch 2: [30000 / 60000] (50 %)  Loss: 0.390600\n",
      "Epoch 2: [36000 / 60000] (60 %)  Loss: 0.361133\n",
      "Epoch 2: [42000 / 60000] (70 %)  Loss: 0.468570\n",
      "Epoch 2: [48000 / 60000] (80 %)  Loss: 0.300675\n",
      "Epoch 2: [54000 / 60000] (90 %)  Loss: 0.347504\n",
      "Epoch 3: [    0 / 60000] (0 %)  Loss: 0.330964\n",
      "Epoch 3: [ 6000 / 60000] (10 %)  Loss: 0.253049\n",
      "Epoch 3: [12000 / 60000] (20 %)  Loss: 0.383826\n",
      "Epoch 3: [18000 / 60000] (30 %)  Loss: 0.282541\n",
      "Epoch 3: [24000 / 60000] (40 %)  Loss: 0.329713\n",
      "Epoch 3: [30000 / 60000] (50 %)  Loss: 0.344007\n",
      "Epoch 3: [36000 / 60000] (60 %)  Loss: 0.318732\n",
      "Epoch 3: [42000 / 60000] (70 %)  Loss: 0.442947\n",
      "Epoch 3: [48000 / 60000] (80 %)  Loss: 0.270701\n",
      "Epoch 3: [54000 / 60000] (90 %)  Loss: 0.330266\n",
      "Epoch 4: [    0 / 60000] (0 %)  Loss: 0.291000\n",
      "Epoch 4: [ 6000 / 60000] (10 %)  Loss: 0.238213\n",
      "Epoch 4: [12000 / 60000] (20 %)  Loss: 0.370208\n",
      "Epoch 4: [18000 / 60000] (30 %)  Loss: 0.269870\n",
      "Epoch 4: [24000 / 60000] (40 %)  Loss: 0.312852\n",
      "Epoch 4: [30000 / 60000] (50 %)  Loss: 0.319392\n",
      "Epoch 4: [36000 / 60000] (60 %)  Loss: 0.304779\n",
      "Epoch 4: [42000 / 60000] (70 %)  Loss: 0.419849\n",
      "Epoch 4: [48000 / 60000] (80 %)  Loss: 0.252735\n",
      "Epoch 4: [54000 / 60000] (90 %)  Loss: 0.311972\n",
      "Epoch 5: [    0 / 60000] (0 %)  Loss: 0.293105\n",
      "Epoch 5: [ 6000 / 60000] (10 %)  Loss: 0.218299\n",
      "Epoch 5: [12000 / 60000] (20 %)  Loss: 0.349858\n",
      "Epoch 5: [18000 / 60000] (30 %)  Loss: 0.266455\n",
      "Epoch 5: [24000 / 60000] (40 %)  Loss: 0.302830\n",
      "Epoch 5: [30000 / 60000] (50 %)  Loss: 0.300298\n",
      "Epoch 5: [36000 / 60000] (60 %)  Loss: 0.299674\n",
      "Epoch 5: [42000 / 60000] (70 %)  Loss: 0.416146\n",
      "Epoch 5: [48000 / 60000] (80 %)  Loss: 0.243258\n",
      "Epoch 5: [54000 / 60000] (90 %)  Loss: 0.307317\n"
     ]
    }
   ],
   "source": [
    "epochs = 5\n",
    "lr = 0.1\n",
    "train_loader = DataLoader(train_ds, batch_size=600)\n",
    "optimizer = torch.optim.Adadelta(model.parameters(), lr=lr)\n",
    "criterion = torch.nn.CrossEntropyLoss()\n",
    "\n",
    "model.train()\n",
    "loss_list = []\n",
    "for epoch in range(1, epochs + 1):\n",
    "    for batch_idx, (data, target) in enumerate(train_loader):\n",
    "        data, target = data.to(device), target.to(device)\n",
    "        optimizer.zero_grad()\n",
    "        output = model(data)\n",
    "        loss = criterion(output, target)\n",
    "        loss.backward()\n",
    "        optimizer.step()\n",
    "        \n",
    "        if batch_idx % 10 == 0:\n",
    "            loss_list.append(loss.item())\n",
    "            batch = batch_idx * len(data)\n",
    "            data_count = len(train_loader.dataset)\n",
    "            percentage = (100. * batch_idx / len(train_loader))\n",
    "            print(f'Epoch {epoch}: [{batch:5d} / {data_count}] ({percentage:.0f} %)' + f'  Loss: {loss.item():.6f}')"
   ]
  },
  {
   "cell_type": "code",
   "execution_count": 7,
   "id": "eee77c57",
   "metadata": {},
   "outputs": [
    {
     "data": {
      "text/plain": [
       "[<matplotlib.lines.Line2D at 0x16efd7f7e48>]"
      ]
     },
     "execution_count": 7,
     "metadata": {},
     "output_type": "execute_result"
    },
    {
     "data": {
      "image/png": "[encoded data removed]",
      "text/plain": [
       "<Figure size 432x288 with 1 Axes>"
      ]
     },
     "metadata": {
      "needs_background": "light"
     },
     "output_type": "display_data"
    }
   ],
   "source": [
    "plt.plot(loss_list, 'r')"
   ]
  },
  {
   "cell_type": "code",
   "execution_count": 8,
   "id": "d1b33e6f",
   "metadata": {},
   "outputs": [
    {
     "name": "stdout",
     "output_type": "stream",
     "text": [
      "avg loss: 0.0003, acc: 9175 / 10000 (92%)\n"
     ]
    }
   ],
   "source": [
    "test_loader = DataLoader(test_ds, shuffle=False, batch_size=BATCH_SIZE)\n",
    "model.eval()\n",
    "test_loss = 0\n",
    "correct = 0\n",
    "with torch.no_grad():\n",
    "    for data, target in test_loader:\n",
    "        data, target = data.to(device), target.to(device)\n",
    "        output = model(data)\n",
    "        test_loss += criterion(output, target).item()\n",
    "        pred = output.argmax(dim=1, keepdim=True)\n",
    "        correct += pred.eq(target.view_as(pred)).sum().item()\n",
    "\n",
    "test_loss /= len(test_loader.dataset)\n",
    "batch = batch_idx * len(data)\n",
    "data_count = len(test_loader.dataset)\n",
    "percentage = 100. * correct / data_count\n",
    "print(f'avg loss: {test_loss:.4f}, acc: {correct} / {data_count}' + f' ({percentage:.0f}%)')"
   ]
  },
  {
   "cell_type": "code",
   "execution_count": 12,
   "id": "78670937",
   "metadata": {},
   "outputs": [
    {
     "name": "stdout",
     "output_type": "stream",
     "text": [
      "actual:     [7 2 1 0 4 1 4 9 5 9 0 6 9 0 1 5 9 7 3 4]\n",
      "predictions: 7 2 1 0 4 1 4 9 6 9 0 6 9 0 1 5 9 7 3 4\n"
     ]
    }
   ],
   "source": [
    "predictions = []\n",
    "with torch.no_grad():\n",
    "    for i in range(20):\n",
    "        data, target = test_ds[i][0], test_ds[i][1]\n",
    "        data = data.reshape(1, *data.shape).to(device)\n",
    "        output = torch.argmax(model(data), axis=-1)\n",
    "        predictions.append(str(output.item()))\n",
    "\n",
    "print('actual:    ', test_ds.targets[:20].numpy())\n",
    "print('predictions:', ' '.join(predictions[:20]))"
   ]
  },
  {
   "cell_type": "code",
   "execution_count": 15,
   "id": "1d242dec",
   "metadata": {},
   "outputs": [
    {
     "name": "stdout",
     "output_type": "stream",
     "text": [
      "0~9 predictions percentage: [[0.   0.   0.   0.   0.01 0.   0.99 0.   0.   0.  ]]\n",
      "0~9 predictions percentage: [6]\n"
     ]
    }
   ],
   "source": [
    "data = test_ds[8][0]\n",
    "data = data.reshape(1, *data.shape).to(device)\n",
    "predictions = torch.softmax(model(data), dim=1)\n",
    "print(f'0~9 predictions percentage: {np.around(predictions.cpu().detach().numpy(), 2)}')\n",
    "print(f'0~9 predictions percentage: {np.argmax(predictions.cpu().detach().numpy(), axis=-1)}')"
   ]
  },
  {
   "cell_type": "code",
   "execution_count": 16,
   "id": "b8186a4d",
   "metadata": {},
   "outputs": [
    {
     "data": {
      "image/png": "[encoded data removed]",
      "text/plain": [
       "<Figure size 432x288 with 1 Axes>"
      ]
     },
     "metadata": {
      "needs_background": "light"
     },
     "output_type": "display_data"
    }
   ],
   "source": [
    "data = test_ds[8][0]\n",
    "plt.imshow(data.reshape(28, 28), cmap='gray')\n",
    "plt.axis('off')\n",
    "plt.show()"
   ]
  },
  {
   "cell_type": "code",
   "execution_count": 17,
   "id": "9e8f62b2",
   "metadata": {},
   "outputs": [],
   "source": [
    "torch.save(model, 'MNIST-Model.pt')"
   ]
  },
  {
   "cell_type": "markdown",
   "id": "73bceab3",
   "metadata": {},
   "source": [
    "### Blind Test"
   ]
  },
  {
   "cell_type": "code",
   "execution_count": 19,
   "id": "e87662ca",
   "metadata": {},
   "outputs": [
    {
     "name": "stdout",
     "output_type": "stream",
     "text": [
      "actual/predictions: 0 8\n",
      "actual/predictions: 1 8\n",
      "actual/predictions: 2 8\n",
      "actual/predictions: 3 8\n",
      "actual/predictions: 4 8\n",
      "actual/predictions: 5 8\n",
      "actual/predictions: 6 8\n",
      "actual/predictions: 7 8\n",
      "actual/predictions: 8 8\n",
      "actual/predictions: 9 8\n"
     ]
    }
   ],
   "source": [
    "from skimage import io\n",
    "from skimage.transform import resize\n",
    "import numpy as np\n",
    "\n",
    "\n",
    "for i in range(10):\n",
    "    uploaded_file = f'./myDigits/{i}.png'\n",
    "    image1 = io.imread(uploaded_file, as_gray=True)\n",
    "\n",
    "    image_resized = resize(image1, (28, 28), anti_aliasing=True)\n",
    "    X1 = image_resized.reshape(1, 28, 28)\n",
    "    X1 = torch.FloatTensor(X1)\n",
    "    predictions = torch.softmax(model(X1), dim=1)\n",
    "    print(f'actual/predictions: {i} {np.argmax(predictions.detach().cpu().numpy())}')"
   ]
  },
  {
   "cell_type": "code",
   "execution_count": 20,
   "id": "aa284184",
   "metadata": {},
   "outputs": [
    {
     "data": {
      "text/plain": [
       "Sequential(\n",
       "  (0): Flatten(start_dim=1, end_dim=-1)\n",
       "  (1): Linear(in_features=784, out_features=256, bias=True)\n",
       "  (2): Dropout(p=0.2, inplace=False)\n",
       "  (3): Linear(in_features=256, out_features=10, bias=True)\n",
       ")"
      ]
     },
     "execution_count": 20,
     "metadata": {},
     "output_type": "execute_result"
    }
   ],
   "source": [
    "model"
   ]
  },
  {
   "cell_type": "code",
   "execution_count": 22,
   "id": "a820010d",
   "metadata": {},
   "outputs": [
    {
     "data": {
      "text/plain": [
       "==========================================================================================\n",
       "Layer (type:depth-idx)                   Output Shape              Param #\n",
       "==========================================================================================\n",
       "Sequential                               --                        --\n",
       "├─Flatten: 1-1                           [60000, 784]              --\n",
       "├─Linear: 1-2                            [60000, 256]              200,960\n",
       "├─Dropout: 1-3                           [60000, 256]              --\n",
       "├─Linear: 1-4                            [60000, 10]               2,570\n",
       "==========================================================================================\n",
       "Total params: 203,530\n",
       "Trainable params: 203,530\n",
       "Non-trainable params: 0\n",
       "Total mult-adds (G): 12.21\n",
       "==========================================================================================\n",
       "Input size (MB): 188.16\n",
       "Forward/backward pass size (MB): 127.68\n",
       "Params size (MB): 0.81\n",
       "Estimated Total Size (MB): 316.65\n",
       "=========================================================================================="
      ]
     },
     "execution_count": 22,
     "metadata": {},
     "output_type": "execute_result"
    }
   ],
   "source": [
    "from torchinfo import summary\n",
    "summary(model, (60000, 28, 28))"
   ]
  },
  {
   "cell_type": "markdown",
   "id": "a5c1de21",
   "metadata": {},
   "source": [
    "## Experiment"
   ]
  },
  {
   "cell_type": "markdown",
   "id": "cd4da5df",
   "metadata": {},
   "source": [
    "##### 1. Why model structure design is two fully connected layers? Dose the model accuracy will improve when we add more layers?"
   ]
  },
  {
   "cell_type": "code",
   "execution_count": 24,
   "id": "f2f3d9b3",
   "metadata": {},
   "outputs": [],
   "source": [
    "model = torch.nn.Sequential(\n",
    "    torch.nn.Flatten(),\n",
    "    torch.nn.Linear(28 * 28, 256),\n",
    "    torch.nn.Dropout(0.2),\n",
    "    torch.nn.Linear(256, 64),\n",
    "    torch.nn.Dropout(0.2),\n",
    "    torch.nn.Linear(64, 10)\n",
    ").to(device)"
   ]
  },
  {
   "cell_type": "code",
   "execution_count": 25,
   "id": "323bdf88",
   "metadata": {},
   "outputs": [
    {
     "name": "stdout",
     "output_type": "stream",
     "text": [
      "Epoch 1: [    0 / 60000] (0 %)  Loss: 2.336792\n",
      "Epoch 1: [ 6000 / 60000] (10 %)  Loss: 1.612970\n",
      "Epoch 1: [12000 / 60000] (20 %)  Loss: 1.203492\n",
      "Epoch 1: [18000 / 60000] (30 %)  Loss: 0.882892\n",
      "Epoch 1: [24000 / 60000] (40 %)  Loss: 0.727632\n",
      "Epoch 1: [30000 / 60000] (50 %)  Loss: 0.722632\n",
      "Epoch 1: [36000 / 60000] (60 %)  Loss: 0.546740\n",
      "Epoch 1: [42000 / 60000] (70 %)  Loss: 0.619637\n",
      "Epoch 1: [48000 / 60000] (80 %)  Loss: 0.430619\n",
      "Epoch 1: [54000 / 60000] (90 %)  Loss: 0.457957\n",
      "Epoch 2: [    0 / 60000] (0 %)  Loss: 0.438710\n",
      "Epoch 2: [ 6000 / 60000] (10 %)  Loss: 0.329909\n",
      "Epoch 2: [12000 / 60000] (20 %)  Loss: 0.463334\n",
      "Epoch 2: [18000 / 60000] (30 %)  Loss: 0.360521\n",
      "Epoch 2: [24000 / 60000] (40 %)  Loss: 0.416299\n",
      "Epoch 2: [30000 / 60000] (50 %)  Loss: 0.411086\n",
      "Epoch 2: [36000 / 60000] (60 %)  Loss: 0.370072\n",
      "Epoch 2: [42000 / 60000] (70 %)  Loss: 0.498871\n",
      "Epoch 2: [48000 / 60000] (80 %)  Loss: 0.324057\n",
      "Epoch 2: [54000 / 60000] (90 %)  Loss: 0.381602\n",
      "Epoch 3: [    0 / 60000] (0 %)  Loss: 0.347321\n",
      "Epoch 3: [ 6000 / 60000] (10 %)  Loss: 0.259026\n",
      "Epoch 3: [12000 / 60000] (20 %)  Loss: 0.408481\n",
      "Epoch 3: [18000 / 60000] (30 %)  Loss: 0.300783\n",
      "Epoch 3: [24000 / 60000] (40 %)  Loss: 0.360568\n",
      "Epoch 3: [30000 / 60000] (50 %)  Loss: 0.370294\n",
      "Epoch 3: [36000 / 60000] (60 %)  Loss: 0.350655\n",
      "Epoch 3: [42000 / 60000] (70 %)  Loss: 0.455101\n",
      "Epoch 3: [48000 / 60000] (80 %)  Loss: 0.313754\n",
      "Epoch 3: [54000 / 60000] (90 %)  Loss: 0.371560\n",
      "Epoch 4: [    0 / 60000] (0 %)  Loss: 0.303343\n",
      "Epoch 4: [ 6000 / 60000] (10 %)  Loss: 0.245524\n",
      "Epoch 4: [12000 / 60000] (20 %)  Loss: 0.399338\n",
      "Epoch 4: [18000 / 60000] (30 %)  Loss: 0.291651\n",
      "Epoch 4: [24000 / 60000] (40 %)  Loss: 0.339345\n",
      "Epoch 4: [30000 / 60000] (50 %)  Loss: 0.351167\n",
      "Epoch 4: [36000 / 60000] (60 %)  Loss: 0.341997\n",
      "Epoch 4: [42000 / 60000] (70 %)  Loss: 0.472040\n",
      "Epoch 4: [48000 / 60000] (80 %)  Loss: 0.279100\n",
      "Epoch 4: [54000 / 60000] (90 %)  Loss: 0.343675\n",
      "Epoch 5: [    0 / 60000] (0 %)  Loss: 0.289087\n",
      "Epoch 5: [ 6000 / 60000] (10 %)  Loss: 0.249528\n",
      "Epoch 5: [12000 / 60000] (20 %)  Loss: 0.383366\n",
      "Epoch 5: [18000 / 60000] (30 %)  Loss: 0.264746\n",
      "Epoch 5: [24000 / 60000] (40 %)  Loss: 0.324781\n",
      "Epoch 5: [30000 / 60000] (50 %)  Loss: 0.320266\n",
      "Epoch 5: [36000 / 60000] (60 %)  Loss: 0.338424\n",
      "Epoch 5: [42000 / 60000] (70 %)  Loss: 0.439518\n",
      "Epoch 5: [48000 / 60000] (80 %)  Loss: 0.273184\n",
      "Epoch 5: [54000 / 60000] (90 %)  Loss: 0.335196\n"
     ]
    }
   ],
   "source": [
    "epochs = 5\n",
    "lr = 0.1\n",
    "train_loader = DataLoader(train_ds, batch_size=600)\n",
    "optimizer = torch.optim.Adadelta(model.parameters(), lr=lr)\n",
    "criterion = torch.nn.CrossEntropyLoss()\n",
    "\n",
    "model.train()\n",
    "loss_list = []\n",
    "for epoch in range(1, epochs + 1):\n",
    "    for batch_idx, (data, target) in enumerate(train_loader):\n",
    "        data, target = data.to(device), target.to(device)\n",
    "        optimizer.zero_grad()\n",
    "        output = model(data)\n",
    "        loss = criterion(output, target)\n",
    "        loss.backward()\n",
    "        optimizer.step()\n",
    "        \n",
    "        if batch_idx % 10 == 0:\n",
    "            loss_list.append(loss.item())\n",
    "            batch = batch_idx * len(data)\n",
    "            data_count = len(train_loader.dataset)\n",
    "            percentage = (100. * batch_idx / len(train_loader))\n",
    "            print(f'Epoch {epoch}: [{batch:5d} / {data_count}] ({percentage:.0f} %)' + f'  Loss: {loss.item():.6f}')"
   ]
  },
  {
   "cell_type": "code",
   "execution_count": 26,
   "id": "c49ba9eb",
   "metadata": {},
   "outputs": [
    {
     "data": {
      "text/plain": [
       "[<matplotlib.lines.Line2D at 0x16efbed5198>]"
      ]
     },
     "execution_count": 26,
     "metadata": {},
     "output_type": "execute_result"
    },
    {
     "data": {
      "image/png": "[encoded data removed]",
      "text/plain": [
       "<Figure size 432x288 with 1 Axes>"
      ]
     },
     "metadata": {
      "needs_background": "light"
     },
     "output_type": "display_data"
    }
   ],
   "source": [
    "plt.plot(loss_list, 'r')"
   ]
  },
  {
   "cell_type": "code",
   "execution_count": 27,
   "id": "c6cf98d9",
   "metadata": {},
   "outputs": [
    {
     "name": "stdout",
     "output_type": "stream",
     "text": [
      "avg loss: 0.0003, acc: 9177 / 10000 (92%)\n"
     ]
    }
   ],
   "source": [
    "test_loader = DataLoader(test_ds, shuffle=False, batch_size=BATCH_SIZE)\n",
    "model.eval()\n",
    "test_loss = 0\n",
    "correct = 0\n",
    "with torch.no_grad():\n",
    "    for data, target in test_loader:\n",
    "        data, target = data.to(device), target.to(device)\n",
    "        output = model(data)\n",
    "        test_loss += criterion(output, target).item()\n",
    "        pred = output.argmax(dim=1, keepdim=True)\n",
    "        correct += pred.eq(target.view_as(pred)).sum().item()\n",
    "\n",
    "test_loss /= len(test_loader.dataset)\n",
    "batch = batch_idx * len(data)\n",
    "data_count = len(test_loader.dataset)\n",
    "percentage = 100. * correct / data_count\n",
    "print(f'avg loss: {test_loss:.4f}, acc: {correct} / {data_count}' + f' ({percentage:.0f}%)')"
   ]
  },
  {
   "cell_type": "markdown",
   "id": "26cf314f",
   "metadata": {},
   "source": [
    "##### 3.Change Dropout Function to Activation Function ReLu, Accuracy?"
   ]
  },
  {
   "cell_type": "code",
   "execution_count": 28,
   "id": "853d6bf6",
   "metadata": {},
   "outputs": [],
   "source": [
    "model = torch.nn.Sequential(\n",
    "    torch.nn.Flatten(),\n",
    "    torch.nn.Linear(28 * 28, 512),\n",
    "    torch.nn.ReLU(),\n",
    "    torch.nn.Linear(512, 10)\n",
    ").to(device)"
   ]
  },
  {
   "cell_type": "code",
   "execution_count": 29,
   "id": "d936c91f",
   "metadata": {},
   "outputs": [
    {
     "name": "stdout",
     "output_type": "stream",
     "text": [
      "Epoch 1: [    0 / 60000] (0 %)  Loss: 2.363424\n",
      "Epoch 1: [ 6000 / 60000] (10 %)  Loss: 1.444294\n",
      "Epoch 1: [12000 / 60000] (20 %)  Loss: 1.002894\n",
      "Epoch 1: [18000 / 60000] (30 %)  Loss: 0.701815\n",
      "Epoch 1: [24000 / 60000] (40 %)  Loss: 0.598961\n",
      "Epoch 1: [30000 / 60000] (50 %)  Loss: 0.595637\n",
      "Epoch 1: [36000 / 60000] (60 %)  Loss: 0.464395\n",
      "Epoch 1: [42000 / 60000] (70 %)  Loss: 0.521710\n",
      "Epoch 1: [48000 / 60000] (80 %)  Loss: 0.352929\n",
      "Epoch 1: [54000 / 60000] (90 %)  Loss: 0.378737\n",
      "Epoch 2: [    0 / 60000] (0 %)  Loss: 0.354684\n",
      "Epoch 2: [ 6000 / 60000] (10 %)  Loss: 0.271718\n",
      "Epoch 2: [12000 / 60000] (20 %)  Loss: 0.388691\n",
      "Epoch 2: [18000 / 60000] (30 %)  Loss: 0.284977\n",
      "Epoch 2: [24000 / 60000] (40 %)  Loss: 0.329495\n",
      "Epoch 2: [30000 / 60000] (50 %)  Loss: 0.347355\n",
      "Epoch 2: [36000 / 60000] (60 %)  Loss: 0.307778\n",
      "Epoch 2: [42000 / 60000] (70 %)  Loss: 0.400782\n",
      "Epoch 2: [48000 / 60000] (80 %)  Loss: 0.258657\n",
      "Epoch 2: [54000 / 60000] (90 %)  Loss: 0.289153\n",
      "Epoch 3: [    0 / 60000] (0 %)  Loss: 0.270414\n",
      "Epoch 3: [ 6000 / 60000] (10 %)  Loss: 0.206678\n",
      "Epoch 3: [12000 / 60000] (20 %)  Loss: 0.323622\n",
      "Epoch 3: [18000 / 60000] (30 %)  Loss: 0.232089\n",
      "Epoch 3: [24000 / 60000] (40 %)  Loss: 0.269346\n",
      "Epoch 3: [30000 / 60000] (50 %)  Loss: 0.277299\n",
      "Epoch 3: [36000 / 60000] (60 %)  Loss: 0.260819\n",
      "Epoch 3: [42000 / 60000] (70 %)  Loss: 0.348360\n",
      "Epoch 3: [48000 / 60000] (80 %)  Loss: 0.216420\n",
      "Epoch 3: [54000 / 60000] (90 %)  Loss: 0.245190\n",
      "Epoch 4: [    0 / 60000] (0 %)  Loss: 0.231274\n",
      "Epoch 4: [ 6000 / 60000] (10 %)  Loss: 0.174681\n",
      "Epoch 4: [12000 / 60000] (20 %)  Loss: 0.283358\n",
      "Epoch 4: [18000 / 60000] (30 %)  Loss: 0.204725\n",
      "Epoch 4: [24000 / 60000] (40 %)  Loss: 0.231759\n",
      "Epoch 4: [30000 / 60000] (50 %)  Loss: 0.235522\n",
      "Epoch 4: [36000 / 60000] (60 %)  Loss: 0.231472\n",
      "Epoch 4: [42000 / 60000] (70 %)  Loss: 0.309328\n",
      "Epoch 4: [48000 / 60000] (80 %)  Loss: 0.187048\n",
      "Epoch 4: [54000 / 60000] (90 %)  Loss: 0.212667\n",
      "Epoch 5: [    0 / 60000] (0 %)  Loss: 0.204507\n",
      "Epoch 5: [ 6000 / 60000] (10 %)  Loss: 0.152968\n",
      "Epoch 5: [12000 / 60000] (20 %)  Loss: 0.251301\n",
      "Epoch 5: [18000 / 60000] (30 %)  Loss: 0.184365\n",
      "Epoch 5: [24000 / 60000] (40 %)  Loss: 0.203266\n",
      "Epoch 5: [30000 / 60000] (50 %)  Loss: 0.204973\n",
      "Epoch 5: [36000 / 60000] (60 %)  Loss: 0.209590\n",
      "Epoch 5: [42000 / 60000] (70 %)  Loss: 0.276833\n",
      "Epoch 5: [48000 / 60000] (80 %)  Loss: 0.164815\n",
      "Epoch 5: [54000 / 60000] (90 %)  Loss: 0.186833\n"
     ]
    }
   ],
   "source": [
    "epochs = 5\n",
    "lr = 0.1\n",
    "train_loader = DataLoader(train_ds, batch_size=600)\n",
    "optimizer = torch.optim.Adadelta(model.parameters(), lr=lr)\n",
    "criterion = torch.nn.CrossEntropyLoss()\n",
    "\n",
    "model.train()\n",
    "loss_list = []\n",
    "for epoch in range(1, epochs + 1):\n",
    "    for batch_idx, (data, target) in enumerate(train_loader):\n",
    "        data, target = data.to(device), target.to(device)\n",
    "        optimizer.zero_grad()\n",
    "        output = model(data)\n",
    "        loss = criterion(output, target)\n",
    "        loss.backward()\n",
    "        optimizer.step()\n",
    "        \n",
    "        if batch_idx % 10 == 0:\n",
    "            loss_list.append(loss.item())\n",
    "            batch = batch_idx * len(data)\n",
    "            data_count = len(train_loader.dataset)\n",
    "            percentage = (100. * batch_idx / len(train_loader))\n",
    "            print(f'Epoch {epoch}: [{batch:5d} / {data_count}] ({percentage:.0f} %)' + f'  Loss: {loss.item():.6f}')"
   ]
  },
  {
   "cell_type": "code",
   "execution_count": 30,
   "id": "ac0fe5f5",
   "metadata": {},
   "outputs": [
    {
     "data": {
      "text/plain": [
       "[<matplotlib.lines.Line2D at 0x16e80074198>]"
      ]
     },
     "execution_count": 30,
     "metadata": {},
     "output_type": "execute_result"
    },
    {
     "data": {
      "image/png": "[encoded data removed]",
      "text/plain": [
       "<Figure size 432x288 with 1 Axes>"
      ]
     },
     "metadata": {
      "needs_background": "light"
     },
     "output_type": "display_data"
    }
   ],
   "source": [
    "plt.plot(loss_list, 'r')"
   ]
  },
  {
   "cell_type": "code",
   "execution_count": 31,
   "id": "ab2b5765",
   "metadata": {},
   "outputs": [
    {
     "name": "stdout",
     "output_type": "stream",
     "text": [
      "avg loss: 0.0002, acc: 9432 / 10000 (94%)\n"
     ]
    }
   ],
   "source": [
    "test_loader = DataLoader(test_ds, shuffle=False, batch_size=BATCH_SIZE)\n",
    "model.eval()\n",
    "test_loss = 0\n",
    "correct = 0\n",
    "with torch.no_grad():\n",
    "    for data, target in test_loader:\n",
    "        data, target = data.to(device), target.to(device)\n",
    "        output = model(data)\n",
    "        test_loss += criterion(output, target).item()\n",
    "        pred = output.argmax(dim=1, keepdim=True)\n",
    "        correct += pred.eq(target.view_as(pred)).sum().item()\n",
    "\n",
    "test_loss /= len(test_loader.dataset)\n",
    "batch = batch_idx * len(data)\n",
    "data_count = len(test_loader.dataset)\n",
    "percentage = 100. * correct / data_count\n",
    "print(f'avg loss: {test_loss:.4f}, acc: {correct} / {data_count}' + f' ({percentage:.0f}%)')"
   ]
  },
  {
   "cell_type": "markdown",
   "id": "61ffb65a",
   "metadata": {},
   "source": [
    "## Performance Object"
   ]
  },
  {
   "cell_type": "code",
   "execution_count": 1,
   "id": "072b9d70",
   "metadata": {},
   "outputs": [],
   "source": [
    "import numpy as np\n",
    "import matplotlib.pyplot as plt\n",
    "from sklearn.metrics import accuracy_score, classification_report, precision_score, recall_score, confusion_matrix"
   ]
  },
  {
   "cell_type": "code",
   "execution_count": 2,
   "id": "1386b2a8",
   "metadata": {},
   "outputs": [
    {
     "name": "stdout",
     "output_type": "stream",
     "text": [
      "TP=3, FP=1, TN=2, FN=2\n"
     ]
    }
   ],
   "source": [
    "y_true = [0, 0, 0, 1, 1, 1, 1, 1]\n",
    "y_pred = [0, 1, 0, 1, 0, 1, 0, 1]\n",
    "\n",
    "tn, fp, fn, tp = confusion_matrix(y_true, y_pred).ravel()\n",
    "print(f'TP={tp}, FP={fp}, TN={tn}, FN={fn}')"
   ]
  },
  {
   "cell_type": "code",
   "execution_count": 4,
   "id": "59ecbd91",
   "metadata": {},
   "outputs": [
    {
     "data": {
      "image/png": "[encoded data removed]",
      "text/plain": [
       "<Figure size 180x180 with 1 Axes>"
      ]
     },
     "metadata": {
      "needs_background": "light"
     },
     "output_type": "display_data"
    }
   ],
   "source": [
    "fig, ax = plt.subplots(figsize=(2.5, 2.5))\n",
    "ax.matshow([[1, 0], [0, 1]], cmap=plt.cm.Blues, alpha=0.3)\n",
    "ax.text(x=0, y=0, s=tp, va='center', ha='center')\n",
    "ax.text(x=1, y=0, s=fp, va='center', ha='center')\n",
    "ax.text(x=0, y=1, s=tn, va='center', ha='center')\n",
    "ax.text(x=1, y=1, s=fn, va='center', ha='center')\n",
    "plt.xlabel('Actual', fontsize=20)\n",
    "plt.ylabel('Predict', fontsize=20)\n",
    "plt.xticks([0, 1], ['T', 'F'])\n",
    "plt.yticks([0, 1], ['P', 'N'])\n",
    "plt.show()"
   ]
  },
  {
   "cell_type": "code",
   "execution_count": 5,
   "id": "60e110b2",
   "metadata": {},
   "outputs": [
    {
     "name": "stdout",
     "output_type": "stream",
     "text": [
      "Accuracy:0.625\n",
      "Check:0.625\n"
     ]
    }
   ],
   "source": [
    "print(f'Accuracy:{accuracy_score(y_true, y_pred)}')\n",
    "print(f'Check:{(tp + tn) / (tp + tn + fp + fn)}')"
   ]
  },
  {
   "cell_type": "code",
   "execution_count": 6,
   "id": "8488ad7e",
   "metadata": {},
   "outputs": [
    {
     "name": "stdout",
     "output_type": "stream",
     "text": [
      "Precision:0.75\n",
      "Check:0.75\n"
     ]
    }
   ],
   "source": [
    "print(f'Precision:{precision_score(y_true, y_pred)}')\n",
    "print(f'Check:{(tp) / (tp + fp)}')"
   ]
  },
  {
   "cell_type": "code",
   "execution_count": 7,
   "id": "4fbebd05",
   "metadata": {},
   "outputs": [
    {
     "name": "stdout",
     "output_type": "stream",
     "text": [
      "Recall:0.6\n",
      "Check:0.6\n"
     ]
    }
   ],
   "source": [
    "print(f'Recall:{recall_score(y_true, y_pred)}')\n",
    "print(f'Check:{(tp) / (tp + fn)}')"
   ]
  },
  {
   "cell_type": "code",
   "execution_count": 8,
   "id": "9f5f457d",
   "metadata": {},
   "outputs": [
    {
     "name": "stderr",
     "output_type": "stream",
     "text": [
      "c:\\Users\\Admin\\Anaconda3\\envs\\pytorch\\lib\\importlib\\_bootstrap.py:219: RuntimeWarning: numpy.ufunc size changed, may indicate binary incompatibility. Expected 192 from C header, got 216 from PyObject\n",
      "  return f(*args, **kwds)\n"
     ]
    },
    {
     "data": {
      "text/html": [
       "<div>\n",
       "<style scoped>\n",
       "    .dataframe tbody tr th:only-of-type {\n",
       "        vertical-align: middle;\n",
       "    }\n",
       "\n",
       "    .dataframe tbody tr th {\n",
       "        vertical-align: top;\n",
       "    }\n",
       "\n",
       "    .dataframe thead th {\n",
       "        text-align: right;\n",
       "    }\n",
       "</style>\n",
       "<table border=\"1\" class=\"dataframe\">\n",
       "  <thead>\n",
       "    <tr style=\"text-align: right;\">\n",
       "      <th></th>\n",
       "      <th>predict</th>\n",
       "      <th>actual</th>\n",
       "    </tr>\n",
       "  </thead>\n",
       "  <tbody>\n",
       "    <tr>\n",
       "      <th>0</th>\n",
       "      <td>0.11</td>\n",
       "      <td>0</td>\n",
       "    </tr>\n",
       "    <tr>\n",
       "      <th>1</th>\n",
       "      <td>0.35</td>\n",
       "      <td>0</td>\n",
       "    </tr>\n",
       "    <tr>\n",
       "      <th>2</th>\n",
       "      <td>0.72</td>\n",
       "      <td>1</td>\n",
       "    </tr>\n",
       "    <tr>\n",
       "      <th>3</th>\n",
       "      <td>0.10</td>\n",
       "      <td>1</td>\n",
       "    </tr>\n",
       "    <tr>\n",
       "      <th>4</th>\n",
       "      <td>0.99</td>\n",
       "      <td>1</td>\n",
       "    </tr>\n",
       "    <tr>\n",
       "      <th>5</th>\n",
       "      <td>0.44</td>\n",
       "      <td>1</td>\n",
       "    </tr>\n",
       "    <tr>\n",
       "      <th>6</th>\n",
       "      <td>0.32</td>\n",
       "      <td>0</td>\n",
       "    </tr>\n",
       "    <tr>\n",
       "      <th>7</th>\n",
       "      <td>0.80</td>\n",
       "      <td>1</td>\n",
       "    </tr>\n",
       "    <tr>\n",
       "      <th>8</th>\n",
       "      <td>0.22</td>\n",
       "      <td>1</td>\n",
       "    </tr>\n",
       "    <tr>\n",
       "      <th>9</th>\n",
       "      <td>0.08</td>\n",
       "      <td>0</td>\n",
       "    </tr>\n",
       "    <tr>\n",
       "      <th>10</th>\n",
       "      <td>0.56</td>\n",
       "      <td>1</td>\n",
       "    </tr>\n",
       "    <tr>\n",
       "      <th>11</th>\n",
       "      <td>0.48</td>\n",
       "      <td>0</td>\n",
       "    </tr>\n",
       "    <tr>\n",
       "      <th>12</th>\n",
       "      <td>0.42</td>\n",
       "      <td>1</td>\n",
       "    </tr>\n",
       "    <tr>\n",
       "      <th>13</th>\n",
       "      <td>0.73</td>\n",
       "      <td>0</td>\n",
       "    </tr>\n",
       "    <tr>\n",
       "      <th>14</th>\n",
       "      <td>0.03</td>\n",
       "      <td>0</td>\n",
       "    </tr>\n",
       "    <tr>\n",
       "      <th>15</th>\n",
       "      <td>0.65</td>\n",
       "      <td>1</td>\n",
       "    </tr>\n",
       "    <tr>\n",
       "      <th>16</th>\n",
       "      <td>0.71</td>\n",
       "      <td>1</td>\n",
       "    </tr>\n",
       "    <tr>\n",
       "      <th>17</th>\n",
       "      <td>0.82</td>\n",
       "      <td>1</td>\n",
       "    </tr>\n",
       "  </tbody>\n",
       "</table>\n",
       "</div>"
      ],
      "text/plain": [
       "    predict  actual\n",
       "0      0.11       0\n",
       "1      0.35       0\n",
       "2      0.72       1\n",
       "3      0.10       1\n",
       "4      0.99       1\n",
       "5      0.44       1\n",
       "6      0.32       0\n",
       "7      0.80       1\n",
       "8      0.22       1\n",
       "9      0.08       0\n",
       "10     0.56       1\n",
       "11     0.48       0\n",
       "12     0.42       1\n",
       "13     0.73       0\n",
       "14     0.03       0\n",
       "15     0.65       1\n",
       "16     0.71       1\n",
       "17     0.82       1"
      ]
     },
     "execution_count": 8,
     "metadata": {},
     "output_type": "execute_result"
    }
   ],
   "source": [
    "import pandas as pd\n",
    "\n",
    "df = pd.read_csv('./data/auc_data.csv')\n",
    "df"
   ]
  },
  {
   "cell_type": "code",
   "execution_count": 9,
   "id": "329c9e52",
   "metadata": {},
   "outputs": [
    {
     "name": "stdout",
     "output_type": "stream",
     "text": [
      "FPR=[0.         0.         0.         0.14285714 0.14285714 0.28571429\n",
      " 0.28571429 0.57142857 0.57142857 0.71428571 0.71428571 1.        ]\n",
      "\n",
      "TPR=[0.         0.09090909 0.27272727 0.27272727 0.63636364 0.63636364\n",
      " 0.81818182 0.81818182 0.90909091 0.90909091 1.         1.        ]\n",
      "\n",
      "Threshold=[1.99 0.99 0.8  0.73 0.56 0.48 0.42 0.32 0.22 0.11 0.1  0.03]\n"
     ]
    }
   ],
   "source": [
    "from sklearn.metrics import roc_curve, roc_auc_score, auc\n",
    "\n",
    "fpr, tpr, threshold = roc_curve(df['actual'], df['predict'])\n",
    "print(f'FPR={fpr}\\n\\nTPR={tpr}\\n\\nThreshold={threshold}')"
   ]
  },
  {
   "cell_type": "code",
   "execution_count": 10,
   "id": "13b1a947",
   "metadata": {},
   "outputs": [
    {
     "data": {
      "image/png": "[encoded data removed]",
      "text/plain": [
       "<Figure size 432x288 with 1 Axes>"
      ]
     },
     "metadata": {
      "needs_background": "light"
     },
     "output_type": "display_data"
    }
   ],
   "source": [
    "auc1 = auc(fpr, tpr)\n",
    "plt.title('ROC/AUC')\n",
    "plt.plot(fpr, tpr, color='orange', label='AUC = %0.2f' % auc1)\n",
    "plt.legend(loc='lower right')\n",
    "plt.plot([0, 1], [0, 1], 'r--')\n",
    "plt.xlim([0, 1])\n",
    "plt.ylim([0, 1])\n",
    "plt.ylabel('True Prositive Rate')\n",
    "plt.xlabel('False Prositive Rate')\n",
    "plt.show()"
   ]
  },
  {
   "cell_type": "markdown",
   "id": "aea80c84",
   "metadata": {},
   "source": [
    "## Hyperparameter Tuning"
   ]
  },
  {
   "cell_type": "code",
   "execution_count": 1,
   "id": "7f108106",
   "metadata": {},
   "outputs": [],
   "source": [
    "import numpy as np\n",
    "import torch\n",
    "from torchvision import datasets, transforms\n",
    "from torch.utils.data import DataLoader\n",
    "import torch.nn.functional as F\n",
    "from ray import tune\n",
    "from ray.tune.schedulers import ASHAScheduler"
   ]
  },
  {
   "cell_type": "code",
   "execution_count": 2,
   "id": "15febc0b",
   "metadata": {},
   "outputs": [
    {
     "name": "stderr",
     "output_type": "stream",
     "text": [
      "c:\\Users\\Admin\\Anaconda3\\envs\\pytorch\\lib\\site-packages\\torch\\cuda\\__init__.py:52: UserWarning: CUDA initialization: The NVIDIA driver on your system is too old (found version 8000). Please update your GPU driver by downloading and installing a new version from the URL: http://www.nvidia.com/Download/index.aspx Alternatively, go to: https://pytorch.org to install a PyTorch version that has been compiled with your version of the CUDA driver. (Triggered internally at  ..\\c10\\cuda\\CUDAFunctions.cpp:100.)\n",
      "  return torch._C._cuda_getDeviceCount() > 0\n"
     ]
    },
    {
     "data": {
      "text/plain": [
       "'cpu'"
      ]
     },
     "execution_count": 2,
     "metadata": {},
     "output_type": "execute_result"
    }
   ],
   "source": [
    "device = torch.device(\"cuda\" if torch.cuda.is_available() else \"cpu\")\n",
    "\"cuda\" if torch.cuda.is_available() else \"cpu\""
   ]
  },
  {
   "cell_type": "code",
   "execution_count": 3,
   "id": "71e270f1",
   "metadata": {},
   "outputs": [],
   "source": [
    "class ConvNet(torch.nn.Module):\n",
    "    def __init__(self) -> None:\n",
    "        super(ConvNet, self).__init__()\n",
    "        self.conv1 = torch.nn.Conv2d(1, 3, kernel_size=3)\n",
    "        self.fc = torch.nn.Linear(192, 10)\n",
    "\n",
    "    def forward(self, x):\n",
    "        x = F.relu(F.max_pool2d(self.conv1(x), 3))\n",
    "        x = x.view(-1, 192)\n",
    "        x = self.fc(x)\n",
    "        return F.log_softmax(x, dim=1)"
   ]
  },
  {
   "cell_type": "code",
   "execution_count": null,
   "id": "02ac2a9b",
   "metadata": {},
   "outputs": [],
   "source": [
    "EPOCH_SIZE = 5\n",
    "\n",
    "\n",
    "def train(model, optimizer, train_loader):\n",
    "    model.train()\n",
    "    for batch_idx, (data, target) in enumerate(train_loader):\n",
    "        data, target = data.to(device), target.to(device)\n",
    "        optimizer.zero_grad()\n",
    "        output = model(data)\n",
    "        loss = F.nll_loss(output, target)\n",
    "        loss.backward()\n",
    "        optimizer.step()\n",
    "\n",
    "def test(model, data_loader):\n",
    "    model.eval()\n",
    "    correct = 0\n",
    "    total = 0\n",
    "    with torch.no_grad():\n",
    "        for batch_idx"
   ]
  }
 ],
 "metadata": {
  "kernelspec": {
   "display_name": "Python 3.6.13 ('pytorch')",
   "language": "python",
   "name": "python3"
  },
  "language_info": {
   "codemirror_mode": {
    "name": "ipython",
    "version": 3
   },
   "file_extension": ".py",
   "mimetype": "text/x-python",
   "name": "python",
   "nbconvert_exporter": "python",
   "pygments_lexer": "ipython3",
   "version": "3.6.13"
  },
  "vscode": {
   "interpreter": {
    "hash": "1812d6e65952ff48a1934bc613de9c7ab75887a2148df7af7eeaf7bfe49cc8ea"
   }
  }
 },
 "nbformat": 4,
 "nbformat_minor": 5
}
