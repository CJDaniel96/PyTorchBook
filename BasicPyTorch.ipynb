{
 "cells": [
  {
   "cell_type": "code",
   "execution_count": 1,
   "id": "a6866914",
   "metadata": {},
   "outputs": [],
   "source": [
    "import torch\n",
    "import numpy as np\n",
    "import matplotlib.pyplot as plt"
   ]
  },
  {
   "cell_type": "code",
   "execution_count": 2,
   "id": "71bacfac",
   "metadata": {},
   "outputs": [
    {
     "data": {
      "text/plain": [
       "'1.12.1'"
      ]
     },
     "execution_count": 2,
     "metadata": {},
     "output_type": "execute_result"
    }
   ],
   "source": [
    "torch.__version__"
   ]
  },
  {
   "cell_type": "code",
   "execution_count": 3,
   "id": "bc5e7dfd",
   "metadata": {},
   "outputs": [
    {
     "data": {
      "text/plain": [
       "False"
      ]
     },
     "execution_count": 3,
     "metadata": {},
     "output_type": "execute_result"
    }
   ],
   "source": [
    "torch.cuda.is_available()"
   ]
  },
  {
   "cell_type": "code",
   "execution_count": 4,
   "id": "8305bd33",
   "metadata": {},
   "outputs": [
    {
     "data": {
      "text/plain": [
       "tensor([ 6., 15.])"
      ]
     },
     "execution_count": 4,
     "metadata": {},
     "output_type": "execute_result"
    }
   ],
   "source": [
    "A = torch.FloatTensor([[1,2,3],[4,5,6]])\n",
    "A.sum(axis=1)"
   ]
  },
  {
   "cell_type": "code",
   "execution_count": 7,
   "id": "f83df463",
   "metadata": {},
   "outputs": [
    {
     "data": {
      "text/plain": [
       "tensor([[0., 0., 3.],\n",
       "        [4., 0., 5.]])"
      ]
     },
     "execution_count": 7,
     "metadata": {},
     "output_type": "execute_result"
    }
   ],
   "source": [
    "i = torch.LongTensor([[0,1,1], [2,0,2]])\n",
    "v = torch.FloatTensor([3,4,5])\n",
    "torch.sparse.FloatTensor(i, v, torch.Size([2,3])).to_dense()"
   ]
  },
  {
   "cell_type": "code",
   "execution_count": 11,
   "id": "ad53e5bf",
   "metadata": {},
   "outputs": [
    {
     "name": "stdout",
     "output_type": "stream",
     "text": [
      "tensor(16., grad_fn=<PowBackward0>)\n",
      "<PowBackward0 object at 0x7fab67edec20>\n",
      "tensor(8.)\n"
     ]
    }
   ],
   "source": [
    "x = torch.tensor(4.0, requires_grad=True)\n",
    "y = x ** 2\n",
    "\n",
    "print(y)\n",
    "print(y.grad_fn)\n",
    "\n",
    "y.backward()\n",
    "\n",
    "print(x.grad)"
   ]
  },
  {
   "cell_type": "code",
   "execution_count": 15,
   "id": "970c7b64",
   "metadata": {},
   "outputs": [
    {
     "name": "stdout",
     "output_type": "stream",
     "text": [
      "x\n",
      "data: 1.0\n",
      "requires_grad: True\n",
      "grad: {i.grad}\n",
      "grad_fn: {i.grad_fn}\n",
      "is_leaf: {i.is_leaf}\n",
      "\n",
      "y\n",
      "data: 2.0\n",
      "requires_grad: False\n",
      "grad: {i.grad}\n",
      "grad_fn: {i.grad_fn}\n",
      "is_leaf: {i.is_leaf}\n",
      "\n",
      "z\n",
      "data: 2.0\n",
      "requires_grad: True\n",
      "grad: {i.grad}\n",
      "grad_fn: {i.grad_fn}\n",
      "is_leaf: {i.is_leaf}\n",
      "\n"
     ]
    }
   ],
   "source": [
    "x = torch.tensor(1.0, requires_grad=True)\n",
    "y = torch.tensor(2.0)\n",
    "\n",
    "z = x * y\n",
    "\n",
    "for i, name in zip([x, y, z], 'xyz'):\n",
    "    print(f'{name}\\ndata: {i.data}\\nrequires_grad: {i.requires_grad}\\n' + 'grad: {i.grad}\\ngrad_fn: {i.grad_fn}\\nis_leaf: {i.is_leaf}\\n')"
   ]
  },
  {
   "cell_type": "code",
   "execution_count": 17,
   "id": "8134a1b3",
   "metadata": {},
   "outputs": [
    {
     "name": "stdout",
     "output_type": "stream",
     "text": [
      "z grad function: <AddBackward0 object at 0x7fab68c94b80>\n",
      "loss grad function: <BinaryCrossEntropyWithLogitsBackward0 object at 0x7fab674cf880>\n"
     ]
    }
   ],
   "source": [
    "x = torch.ones(5)\n",
    "y = torch.zeros(3)\n",
    "w = torch.randn(5, 3, requires_grad=True)\n",
    "b = torch.randn(3, requires_grad=True)\n",
    "z = torch.matmul(x, w) + b\n",
    "loss = torch.nn.functional.binary_cross_entropy_with_logits(z, y)\n",
    "\n",
    "print('z grad function:', z.grad_fn)\n",
    "print('loss grad function:', loss.grad_fn)"
   ]
  },
  {
   "cell_type": "code",
   "execution_count": 23,
   "id": "1bc2f085",
   "metadata": {},
   "outputs": [
    {
     "name": "stdout",
     "output_type": "stream",
     "text": [
      "tensor([[0.3263, 0.2932, 0.3293],\n",
      "        [0.3263, 0.2932, 0.3293],\n",
      "        [0.3263, 0.2932, 0.3293],\n",
      "        [0.3263, 0.2932, 0.3293],\n",
      "        [0.3263, 0.2932, 0.3293]])\n",
      "tensor([0.3263, 0.2932, 0.3293])\n"
     ]
    }
   ],
   "source": [
    "loss.backward()\n",
    "print(w.grad)\n",
    "print(b.grad)"
   ]
  },
  {
   "cell_type": "code",
   "execution_count": 31,
   "id": "2baaf52c",
   "metadata": {},
   "outputs": [
    {
     "name": "stdout",
     "output_type": "stream",
     "text": [
      "tensor(75.)\n",
      "tensor(150.)\n",
      "tensor(225.)\n"
     ]
    }
   ],
   "source": [
    "x = torch.tensor(5.0, requires_grad=True)\n",
    "y = x ** 3\n",
    "\n",
    "y.backward(retain_graph=True)\n",
    "print(x.grad)\n",
    "y.backward(retain_graph=True)\n",
    "print(x.grad)\n",
    "y.backward(retain_graph=True)\n",
    "print(x.grad)"
   ]
  },
  {
   "cell_type": "code",
   "execution_count": 35,
   "id": "741cf093",
   "metadata": {},
   "outputs": [
    {
     "name": "stdout",
     "output_type": "stream",
     "text": [
      "tensor(75.)\n",
      "tensor(75.)\n",
      "tensor(75.)\n"
     ]
    }
   ],
   "source": [
    "x = torch.tensor(5.0, requires_grad=True)\n",
    "y = x ** 3\n",
    "\n",
    "y.backward(retain_graph=True)\n",
    "print(x.grad)\n",
    "x.grad.zero_()\n",
    "y.backward(retain_graph=True)\n",
    "print(x.grad)\n",
    "x.grad.zero_()\n",
    "y.backward(retain_graph=True)\n",
    "print(x.grad)"
   ]
  },
  {
   "cell_type": "code",
   "execution_count": 38,
   "id": "1ca167a1",
   "metadata": {},
   "outputs": [],
   "source": [
    "def func(x):\n",
    "    return x ** 2\n",
    "\n",
    "def dfunc(x):\n",
    "    x = torch.tensor(float(x), requires_grad=True)\n",
    "    y = x ** 2\n",
    "    y.backward()\n",
    "    return x.grad\n",
    "\n",
    "def GD(x_start, df, epochs, lr):\n",
    "    xs = np.zeros(epochs + 1)\n",
    "    x = x_start\n",
    "    xs[0] = x\n",
    "    for i in range(epochs):\n",
    "        dx = df(x)\n",
    "        x += - dx * lr\n",
    "        xs[i + 1] = x\n",
    "    return xs"
   ]
  },
  {
   "cell_type": "code",
   "execution_count": 40,
   "id": "d4009a6f",
   "metadata": {},
   "outputs": [
    {
     "name": "stdout",
     "output_type": "stream",
     "text": [
      "[5.   2.   0.8  0.32 0.13 0.05 0.02 0.01 0.   0.   0.   0.   0.   0.\n",
      " 0.   0.  ]\n"
     ]
    },
    {
     "data": {
      "image/png": "[encoded data removed]",
      "text/plain": [
       "<Figure size 432x288 with 1 Axes>"
      ]
     },
     "metadata": {
      "needs_background": "light"
     },
     "output_type": "display_data"
    }
   ],
   "source": [
    "x_start = 5\n",
    "epochs = 15\n",
    "lr = 0.3\n",
    "w = GD(x_start, dfunc, epochs, lr)\n",
    "print(np.around(w, 2))\n",
    "\n",
    "t = np.arange(-6.0, 6.0, 0.01)\n",
    "plt.plot(t, func(t), c='b')\n",
    "plt.plot(w, func(w), c='r', marker='o', markersize=5)\n",
    "plt.show()"
   ]
  },
  {
   "cell_type": "code",
   "execution_count": 45,
   "id": "8ec58f0d",
   "metadata": {},
   "outputs": [],
   "source": [
    "def func(x):\n",
    "    return 2*x**4 - 3*x**2 + 2*x - 20\n",
    "\n",
    "def dfunc(x):\n",
    "    x = torch.tensor(float(x), requires_grad=True)\n",
    "    y = 2*x**4 - 3*x**2 + 2*x - 20\n",
    "    y.backward()\n",
    "    return x.grad"
   ]
  },
  {
   "cell_type": "code",
   "execution_count": 46,
   "id": "71ceab3e",
   "metadata": {},
   "outputs": [
    {
     "name": "stdout",
     "output_type": "stream",
     "text": [
      "[5.   4.03 3.53 ... 0.51 0.51 0.51]\n"
     ]
    },
    {
     "data": {
      "image/png": "[encoded data removed]",
      "text/plain": [
       "<Figure size 432x288 with 1 Axes>"
      ]
     },
     "metadata": {
      "needs_background": "light"
     },
     "output_type": "display_data"
    }
   ],
   "source": [
    "x_start = 5\n",
    "epochs = 15000\n",
    "lr = 0.001\n",
    "w = GD(x_start, dfunc, epochs, lr)\n",
    "print(np.around(w, 2))\n",
    "\n",
    "t = np.arange(-6.0, 6.0, 0.01)\n",
    "plt.plot(t, func(t), c='b')\n",
    "plt.plot(w, func(w), c='r', marker='o', markersize=5)\n",
    "plt.show()"
   ]
  },
  {
   "cell_type": "code",
   "execution_count": 2,
   "id": "05a96584",
   "metadata": {},
   "outputs": [],
   "source": [
    "def train(X, y, epochs=100, lr=0.0001):\n",
    "    loss_list, w_list, b_list = [], [], []\n",
    "    w = torch.randn(1, requires_grad=True, dtype=torch.float)\n",
    "    b = torch.randn(1, requires_grad=True, dtype=torch.float)\n",
    "    for epoch in range(epochs):\n",
    "        y_pred = w * X + b\n",
    "        MSE = torch.mean(torch.square(y_pred - y))\n",
    "        MSE.backward()\n",
    "        \n",
    "        with torch.no_grad():\n",
    "            w -= lr * w.grad\n",
    "            b -= lr * b.grad\n",
    "            w_list.append(w.item())\n",
    "            b_list.append(b.item())\n",
    "            loss_list.append(MSE.item())\n",
    "            \n",
    "            w.grad.zero_()\n",
    "            b.grad.zero_()\n",
    "            \n",
    "    return w_list, b_list, loss_list"
   ]
  },
  {
   "cell_type": "code",
   "execution_count": 3,
   "id": "f69ed0fa",
   "metadata": {},
   "outputs": [],
   "source": [
    "n = 100\n",
    "X = np.linspace(0, 50, n)\n",
    "y = np.linspace(0, 50, n)\n",
    "\n",
    "X += np.random.uniform(-10, 10, n)\n",
    "y += np.random.uniform(-10, 10, n)"
   ]
  },
  {
   "cell_type": "code",
   "execution_count": 4,
   "id": "23f24abe",
   "metadata": {},
   "outputs": [
    {
     "name": "stdout",
     "output_type": "stream",
     "text": [
      "w=0.9898211359977722, b=-1.0744526386260986\n"
     ]
    },
    {
     "name": "stderr",
     "output_type": "stream",
     "text": [
      "C:\\Users\\Admin\\Anaconda3\\envs\\pytorch\\lib\\site-packages\\torch\\autograd\\__init__.py:132: UserWarning: CUDA initialization: The NVIDIA driver on your system is too old (found version 8000). Please update your GPU driver by downloading and installing a new version from the URL: http://www.nvidia.com/Download/index.aspx Alternatively, go to: https://pytorch.org to install a PyTorch version that has been compiled with your version of the CUDA driver. (Triggered internally at  ..\\c10\\cuda\\CUDAFunctions.cpp:100.)\n",
      "  allow_unreachable=True)  # allow_unreachable flag\n"
     ]
    }
   ],
   "source": [
    "w_list, b_list, loss_list = train(torch.tensor(X), torch.tensor(y))\n",
    "print(f'w={w_list[-1]}, b={b_list[-1]}')"
   ]
  },
  {
   "cell_type": "code",
   "execution_count": 5,
   "id": "ed9181d1",
   "metadata": {},
   "outputs": [
    {
     "name": "stdout",
     "output_type": "stream",
     "text": [
      "w=0.8531224131584167, b=3.7385342121124268\n"
     ]
    }
   ],
   "source": [
    "w_list, b_list, loss_list = train(torch.tensor(X), torch.tensor(y), epochs=100000)\n",
    "print(f'w={w_list[-1]}, b={b_list[-1]}')"
   ]
  },
  {
   "cell_type": "code",
   "execution_count": 6,
   "id": "103e7a77",
   "metadata": {},
   "outputs": [
    {
     "name": "stdout",
     "output_type": "stream",
     "text": [
      "w=0.8529250575267869, b=3.745478986356764\n"
     ]
    }
   ],
   "source": [
    "coef = np.polyfit(X, y, deg=1)\n",
    "print(f'w={coef[0]}, b={coef[1]}')"
   ]
  },
  {
   "cell_type": "code",
   "execution_count": 7,
   "id": "79a43fce",
   "metadata": {},
   "outputs": [
    {
     "data": {
      "text/plain": [
       "<matplotlib.legend.Legend at 0x22a0b92a8d0>"
      ]
     },
     "execution_count": 7,
     "metadata": {},
     "output_type": "execute_result"
    },
    {
     "data": {
      "image/png": "[encoded data removed]",
      "text/plain": [
       "<Figure size 432x288 with 1 Axes>"
      ]
     },
     "metadata": {
      "needs_background": "light"
     },
     "output_type": "display_data"
    }
   ],
   "source": [
    "plt.scatter(X, y, label='data')\n",
    "plt.plot(X, w_list[-1] * X + b_list[-1], 'r-', label='predicted')\n",
    "plt.legend()"
   ]
  },
  {
   "cell_type": "code",
   "execution_count": 8,
   "id": "ace6b848",
   "metadata": {},
   "outputs": [
    {
     "data": {
      "text/plain": [
       "<matplotlib.legend.Legend at 0x22a0ba45a20>"
      ]
     },
     "execution_count": 8,
     "metadata": {},
     "output_type": "execute_result"
    },
    {
     "data": {
      "image/png": "[encoded data removed]",
      "text/plain": [
       "<Figure size 432x288 with 1 Axes>"
      ]
     },
     "metadata": {
      "needs_background": "light"
     },
     "output_type": "display_data"
    }
   ],
   "source": [
    "plt.scatter(X, y, label='data')\n",
    "plt.plot(X, coef[0] * X + coef[1], 'r-', label='predicted')\n",
    "plt.legend()"
   ]
  },
  {
   "cell_type": "code",
   "execution_count": 9,
   "id": "a02e365b",
   "metadata": {},
   "outputs": [
    {
     "data": {
      "text/plain": [
       "[<matplotlib.lines.Line2D at 0x22a0df69b00>]"
      ]
     },
     "execution_count": 9,
     "metadata": {},
     "output_type": "execute_result"
    },
    {
     "data": {
      "image/png": "[encoded data removed]",
      "text/plain": [
       "<Figure size 432x288 with 1 Axes>"
      ]
     },
     "metadata": {
      "needs_background": "light"
     },
     "output_type": "display_data"
    }
   ],
   "source": [
    "plt.plot(loss_list)"
   ]
  },
  {
   "cell_type": "markdown",
   "id": "a270d538",
   "metadata": {},
   "source": [
    "## Fully Connection Layer"
   ]
  },
  {
   "cell_type": "code",
   "execution_count": 20,
   "id": "20287d2f",
   "metadata": {},
   "outputs": [],
   "source": [
    "import torch"
   ]
  },
  {
   "cell_type": "code",
   "execution_count": 21,
   "id": "36ff03f9",
   "metadata": {},
   "outputs": [
    {
     "data": {
      "text/plain": [
       "torch.Size([128, 20])"
      ]
     },
     "execution_count": 21,
     "metadata": {},
     "output_type": "execute_result"
    }
   ],
   "source": [
    "input_data = torch.randn(128, 20)\n",
    "input_data.shape"
   ]
  },
  {
   "cell_type": "code",
   "execution_count": 22,
   "id": "bad787f4",
   "metadata": {},
   "outputs": [],
   "source": [
    "layer1 = torch.nn.Linear(20, 30)"
   ]
  },
  {
   "cell_type": "code",
   "execution_count": 23,
   "id": "c42b3da5",
   "metadata": {},
   "outputs": [
    {
     "data": {
      "text/plain": [
       "torch.Size([128, 30])"
      ]
     },
     "execution_count": 23,
     "metadata": {},
     "output_type": "execute_result"
    }
   ],
   "source": [
    "output = layer1(input_data)\n",
    "output.shape"
   ]
  },
  {
   "cell_type": "code",
   "execution_count": 24,
   "id": "fc4e7554",
   "metadata": {},
   "outputs": [],
   "source": [
    "layer2 = torch.nn.Bilinear(20, 30, 40)\n",
    "input_data1 = torch.randn(128, 20)\n",
    "input_data2 = torch.randn(128, 30)"
   ]
  },
  {
   "cell_type": "code",
   "execution_count": 25,
   "id": "750a430a",
   "metadata": {},
   "outputs": [
    {
     "data": {
      "text/plain": [
       "torch.Size([128, 40])"
      ]
     },
     "execution_count": 25,
     "metadata": {},
     "output_type": "execute_result"
    }
   ],
   "source": [
    "output = layer2(input_data1, input_data2)\n",
    "output.shape"
   ]
  },
  {
   "cell_type": "markdown",
   "id": "4cc8ae65",
   "metadata": {},
   "source": [
    "## Simple Regression "
   ]
  },
  {
   "cell_type": "code",
   "execution_count": 64,
   "id": "4c46f212",
   "metadata": {},
   "outputs": [],
   "source": [
    "import numpy as np\n",
    "import torch\n",
    "import matplotlib.pyplot as plt"
   ]
  },
  {
   "cell_type": "code",
   "execution_count": 51,
   "id": "95fa74a7",
   "metadata": {},
   "outputs": [],
   "source": [
    "n = 100\n",
    "X = np.linspace(0, 50, n)\n",
    "y = np.linspace(0, 50, n)\n",
    "\n",
    "X += np.random.uniform(-10, 10, n)\n",
    "y += np.random.uniform(-10, 10, n)"
   ]
  },
  {
   "cell_type": "code",
   "execution_count": 52,
   "id": "04b28164",
   "metadata": {},
   "outputs": [],
   "source": [
    "def create_model(input_feature, output_feature):\n",
    "    model = torch.nn.Sequential(\n",
    "        torch.nn.Linear(input_feature, output_feature),\n",
    "        torch.nn.Flatten(0, -1)\n",
    "    )\n",
    "    return model"
   ]
  },
  {
   "cell_type": "code",
   "execution_count": 53,
   "id": "5ce271f6",
   "metadata": {},
   "outputs": [
    {
     "data": {
      "text/plain": [
       "torch.Size([32, 288])"
      ]
     },
     "execution_count": 53,
     "metadata": {},
     "output_type": "execute_result"
    }
   ],
   "source": [
    "input_data = torch.randn(32, 1, 5, 5)\n",
    "m = torch.nn.Sequential(\n",
    "    torch.nn.Conv2d(1, 32, 5, 1, 1),\n",
    "    torch.nn.Flatten()\n",
    ")\n",
    "output = m(input_data)\n",
    "output.size()"
   ]
  },
  {
   "cell_type": "code",
   "execution_count": 54,
   "id": "807ac243",
   "metadata": {},
   "outputs": [],
   "source": [
    "def train(X, y, epochs=2000, lr=1e-6):\n",
    "    model = create_model(1, 1)\n",
    "    loss_fn = torch.nn.MSELoss(reduction='sum')\n",
    "    loss_list, w_list, b_list = [], [], []\n",
    "    for epoch in range(epochs):\n",
    "        y_pred = model(X)\n",
    "        MSE = loss_fn(y_pred, y)\n",
    "        model.zero_grad()\n",
    "        MSE.backward()\n",
    "        with torch.no_grad():\n",
    "            for param in model.parameters():\n",
    "                param -= lr * param.grad\n",
    "        linear_layer = model[0]\n",
    "        if (epoch + 1) % 1000 == 0 or epochs < 1000:\n",
    "            w_list.append(linear_layer.weight[:, 0].item())\n",
    "            b_list.append(linear_layer.bias.item())\n",
    "            loss_list.append(MSE.item())\n",
    "            \n",
    "    return w_list, b_list, loss_list"
   ]
  },
  {
   "cell_type": "code",
   "execution_count": 63,
   "id": "28df8375",
   "metadata": {},
   "outputs": [
    {
     "name": "stdout",
     "output_type": "stream",
     "text": [
      "w=0.8300716280937195, b=5.339541435241699\n"
     ]
    }
   ],
   "source": [
    "X2, y2 = torch.FloatTensor(X.reshape(X.shape[0], 1)), torch.FloatTensor(y)\n",
    "w_list, b_list, loss_list = train(X2, y2, epochs=10**5, lr=1e-6)\n",
    "print(f'w={w_list[-1]}, b={b_list[-1]}')"
   ]
  },
  {
   "cell_type": "code",
   "execution_count": 56,
   "id": "14ee0cfe",
   "metadata": {},
   "outputs": [
    {
     "name": "stdout",
     "output_type": "stream",
     "text": [
      "w=0.8295124523482278, b=5.358743153822324\n"
     ]
    }
   ],
   "source": [
    "coef = np.polyfit(X, y, deg=1)\n",
    "print(f'w={coef[0]}, b={coef[1]}')"
   ]
  },
  {
   "cell_type": "code",
   "execution_count": 65,
   "id": "4f2f1323",
   "metadata": {},
   "outputs": [
    {
     "data": {
      "text/plain": [
       "<matplotlib.legend.Legend at 0x22a0e923a90>"
      ]
     },
     "execution_count": 65,
     "metadata": {},
     "output_type": "execute_result"
    },
    {
     "data": {
      "image/png": "[encoded data removed]",
      "text/plain": [
       "<Figure size 432x288 with 1 Axes>"
      ]
     },
     "metadata": {
      "needs_background": "light"
     },
     "output_type": "display_data"
    }
   ],
   "source": [
    "plt.scatter(X, y, label='data')\n",
    "plt.plot(X, w_list[-1] * X + b_list[-1], 'r-', label='predicted')\n",
    "plt.legend()"
   ]
  },
  {
   "cell_type": "code",
   "execution_count": 66,
   "id": "8afd99c9",
   "metadata": {},
   "outputs": [
    {
     "data": {
      "text/plain": [
       "<matplotlib.legend.Legend at 0x22a0ee299e8>"
      ]
     },
     "execution_count": 66,
     "metadata": {},
     "output_type": "execute_result"
    },
    {
     "data": {
      "image/png": "[encoded data removed]",
      "text/plain": [
       "<Figure size 432x288 with 1 Axes>"
      ]
     },
     "metadata": {
      "needs_background": "light"
     },
     "output_type": "display_data"
    }
   ],
   "source": [
    "plt.scatter(X, y, label='data')\n",
    "plt.plot(X, coef[0] * X + coef[1], 'r-', label='predicted')\n",
    "plt.legend()"
   ]
  },
  {
   "cell_type": "code",
   "execution_count": 67,
   "id": "8c48618f",
   "metadata": {},
   "outputs": [
    {
     "data": {
      "text/plain": [
       "[<matplotlib.lines.Line2D at 0x22a0e99b128>]"
      ]
     },
     "execution_count": 67,
     "metadata": {},
     "output_type": "execute_result"
    },
    {
     "data": {
      "image/png": "[encoded data removed]",
      "text/plain": [
       "<Figure size 432x288 with 1 Axes>"
      ]
     },
     "metadata": {
      "needs_background": "light"
     },
     "output_type": "display_data"
    }
   ],
   "source": [
    "plt.plot(loss_list)"
   ]
  },
  {
   "cell_type": "markdown",
   "id": "a7591ceb",
   "metadata": {},
   "source": [
    "## Optimizer"
   ]
  },
  {
   "cell_type": "code",
   "execution_count": 68,
   "id": "8f0acc94",
   "metadata": {},
   "outputs": [],
   "source": [
    "def train(X, y, epochs=2000, lr=1e-6):\n",
    "    model = create_model(1, 1)\n",
    "    loss_fn = torch.nn.MSELoss(reduction='sum')\n",
    "    optimizer = torch.optim.Adam(model.parameters(), lr=lr)\n",
    "    loss_list, w_list, b_list = [], [], []\n",
    "    for epoch in range(epochs):\n",
    "        y_pred = model(X)\n",
    "        MSE = loss_fn(y_pred, y)\n",
    "        optimizer.zero_grad()\n",
    "        MSE.backward()\n",
    "        optimizer.step()\n",
    "        if (epoch + 1) % 1000 == 0 or epochs < 1000:\n",
    "            w_list.append(model[0].weight[:, 0].item())\n",
    "            b_list.append(model[0].bias.item())\n",
    "            loss_list.append(MSE.item())\n",
    "            \n",
    "    return w_list, b_list, loss_list"
   ]
  },
  {
   "cell_type": "code",
   "execution_count": 69,
   "id": "893d4f1f",
   "metadata": {},
   "outputs": [
    {
     "name": "stdout",
     "output_type": "stream",
     "text": [
      "w=-0.658545970916748, b=-0.2665109634399414\n"
     ]
    }
   ],
   "source": [
    "X2, y2 = torch.FloatTensor(X.reshape(X.shape[0], 1)), torch.FloatTensor(y)\n",
    "w_list, b_list, loss_list = train(X2, y2, epochs=10**5, lr=1e-6)\n",
    "print(f'w={w_list[-1]}, b={b_list[-1]}')"
   ]
  },
  {
   "cell_type": "code",
   "execution_count": 70,
   "id": "2924e37c",
   "metadata": {},
   "outputs": [
    {
     "data": {
      "text/plain": [
       "<matplotlib.legend.Legend at 0x22a0edce390>"
      ]
     },
     "execution_count": 70,
     "metadata": {},
     "output_type": "execute_result"
    },
    {
     "data": {
      "image/png": "[encoded data removed]",
      "text/plain": [
       "<Figure size 432x288 with 1 Axes>"
      ]
     },
     "metadata": {
      "needs_background": "light"
     },
     "output_type": "display_data"
    }
   ],
   "source": [
    "plt.scatter(X, y, label='data')\n",
    "plt.plot(X, w_list[-1] * X + b_list[-1], 'r-', label='predicted')\n",
    "plt.legend()"
   ]
  },
  {
   "cell_type": "code",
   "execution_count": 71,
   "id": "2674173c",
   "metadata": {},
   "outputs": [
    {
     "data": {
      "text/plain": [
       "[<matplotlib.lines.Line2D at 0x22a0e8df630>]"
      ]
     },
     "execution_count": 71,
     "metadata": {},
     "output_type": "execute_result"
    },
    {
     "data": {
      "image/png": "[encoded data removed]",
      "text/plain": [
       "<Figure size 432x288 with 1 Axes>"
      ]
     },
     "metadata": {
      "needs_background": "light"
     },
     "output_type": "display_data"
    }
   ],
   "source": [
    "plt.plot(loss_list)"
   ]
  },
  {
   "cell_type": "markdown",
   "id": "f00d63d9",
   "metadata": {},
   "source": [
    "## IRIS"
   ]
  },
  {
   "cell_type": "code",
   "execution_count": 1,
   "id": "a91f93b5",
   "metadata": {},
   "outputs": [],
   "source": [
    "import numpy as np\n",
    "import pandas as pd\n",
    "from sklearn import datasets\n",
    "import torch"
   ]
  },
  {
   "cell_type": "code",
   "execution_count": 2,
   "id": "7777960a",
   "metadata": {},
   "outputs": [
    {
     "data": {
      "text/html": [
       "<div>\n",
       "<style scoped>\n",
       "    .dataframe tbody tr th:only-of-type {\n",
       "        vertical-align: middle;\n",
       "    }\n",
       "\n",
       "    .dataframe tbody tr th {\n",
       "        vertical-align: top;\n",
       "    }\n",
       "\n",
       "    .dataframe thead th {\n",
       "        text-align: right;\n",
       "    }\n",
       "</style>\n",
       "<table border=\"1\" class=\"dataframe\">\n",
       "  <thead>\n",
       "    <tr style=\"text-align: right;\">\n",
       "      <th></th>\n",
       "      <th>sepal length (cm)</th>\n",
       "      <th>sepal width (cm)</th>\n",
       "      <th>petal length (cm)</th>\n",
       "      <th>petal width (cm)</th>\n",
       "    </tr>\n",
       "  </thead>\n",
       "  <tbody>\n",
       "    <tr>\n",
       "      <th>0</th>\n",
       "      <td>5.1</td>\n",
       "      <td>3.5</td>\n",
       "      <td>1.4</td>\n",
       "      <td>0.2</td>\n",
       "    </tr>\n",
       "    <tr>\n",
       "      <th>1</th>\n",
       "      <td>4.9</td>\n",
       "      <td>3.0</td>\n",
       "      <td>1.4</td>\n",
       "      <td>0.2</td>\n",
       "    </tr>\n",
       "    <tr>\n",
       "      <th>2</th>\n",
       "      <td>4.7</td>\n",
       "      <td>3.2</td>\n",
       "      <td>1.3</td>\n",
       "      <td>0.2</td>\n",
       "    </tr>\n",
       "    <tr>\n",
       "      <th>3</th>\n",
       "      <td>4.6</td>\n",
       "      <td>3.1</td>\n",
       "      <td>1.5</td>\n",
       "      <td>0.2</td>\n",
       "    </tr>\n",
       "    <tr>\n",
       "      <th>4</th>\n",
       "      <td>5.0</td>\n",
       "      <td>3.6</td>\n",
       "      <td>1.4</td>\n",
       "      <td>0.2</td>\n",
       "    </tr>\n",
       "  </tbody>\n",
       "</table>\n",
       "</div>"
      ],
      "text/plain": [
       "   sepal length (cm)  sepal width (cm)  petal length (cm)  petal width (cm)\n",
       "0                5.1               3.5                1.4               0.2\n",
       "1                4.9               3.0                1.4               0.2\n",
       "2                4.7               3.2                1.3               0.2\n",
       "3                4.6               3.1                1.5               0.2\n",
       "4                5.0               3.6                1.4               0.2"
      ]
     },
     "execution_count": 2,
     "metadata": {},
     "output_type": "execute_result"
    }
   ],
   "source": [
    "iris_dataset = datasets.load_iris()\n",
    "df = pd.DataFrame(iris_dataset.data, columns=iris_dataset.feature_names)\n",
    "df.head()"
   ]
  },
  {
   "cell_type": "code",
   "execution_count": 3,
   "id": "7b55c4a7",
   "metadata": {},
   "outputs": [],
   "source": [
    "from sklearn.model_selection import train_test_split\n",
    "X_train, X_test, y_train, y_test = train_test_split(df.values, iris_dataset.target, test_size=0.2)"
   ]
  },
  {
   "cell_type": "code",
   "execution_count": 9,
   "id": "c5c1fb89",
   "metadata": {},
   "outputs": [],
   "source": [
    "y_train_encoding = pd.get_dummies(y_train)\n",
    "y_test_encoding = pd.get_dummies(y_test)"
   ]
  },
  {
   "cell_type": "code",
   "execution_count": 6,
   "id": "446eea1e",
   "metadata": {},
   "outputs": [
    {
     "data": {
      "text/plain": [
       "tensor([[0, 0, 1],\n",
       "        [1, 0, 0],\n",
       "        [1, 0, 0],\n",
       "        [0, 1, 0],\n",
       "        [0, 1, 0],\n",
       "        [0, 0, 1],\n",
       "        [0, 1, 0],\n",
       "        [1, 0, 0],\n",
       "        [0, 0, 1],\n",
       "        [0, 1, 0],\n",
       "        [1, 0, 0],\n",
       "        [1, 0, 0],\n",
       "        [0, 0, 1],\n",
       "        [0, 0, 1],\n",
       "        [1, 0, 0],\n",
       "        [0, 0, 1],\n",
       "        [0, 0, 1],\n",
       "        [1, 0, 0],\n",
       "        [1, 0, 0],\n",
       "        [1, 0, 0],\n",
       "        [0, 0, 1],\n",
       "        [0, 1, 0],\n",
       "        [1, 0, 0],\n",
       "        [0, 1, 0],\n",
       "        [1, 0, 0],\n",
       "        [0, 0, 1],\n",
       "        [0, 1, 0],\n",
       "        [0, 1, 0],\n",
       "        [0, 1, 0],\n",
       "        [0, 1, 0],\n",
       "        [1, 0, 0],\n",
       "        [0, 0, 1],\n",
       "        [1, 0, 0],\n",
       "        [0, 1, 0],\n",
       "        [0, 0, 1],\n",
       "        [1, 0, 0],\n",
       "        [0, 1, 0],\n",
       "        [1, 0, 0],\n",
       "        [0, 0, 1],\n",
       "        [0, 0, 1],\n",
       "        [1, 0, 0],\n",
       "        [1, 0, 0],\n",
       "        [0, 0, 1],\n",
       "        [0, 1, 0],\n",
       "        [1, 0, 0],\n",
       "        [1, 0, 0],\n",
       "        [0, 1, 0],\n",
       "        [0, 1, 0],\n",
       "        [0, 1, 0],\n",
       "        [0, 0, 1],\n",
       "        [1, 0, 0],\n",
       "        [0, 0, 1],\n",
       "        [0, 0, 1],\n",
       "        [0, 0, 1],\n",
       "        [0, 0, 1],\n",
       "        [0, 1, 0],\n",
       "        [0, 0, 1],\n",
       "        [1, 0, 0],\n",
       "        [0, 1, 0],\n",
       "        [0, 0, 1],\n",
       "        [0, 1, 0],\n",
       "        [0, 0, 1],\n",
       "        [0, 0, 1],\n",
       "        [1, 0, 0],\n",
       "        [1, 0, 0],\n",
       "        [1, 0, 0],\n",
       "        [1, 0, 0],\n",
       "        [1, 0, 0],\n",
       "        [0, 0, 1],\n",
       "        [0, 0, 1],\n",
       "        [0, 0, 1],\n",
       "        [0, 1, 0],\n",
       "        [1, 0, 0],\n",
       "        [0, 0, 1],\n",
       "        [0, 1, 0],\n",
       "        [1, 0, 0],\n",
       "        [1, 0, 0],\n",
       "        [0, 1, 0],\n",
       "        [1, 0, 0],\n",
       "        [0, 1, 0],\n",
       "        [0, 0, 1],\n",
       "        [0, 0, 1],\n",
       "        [1, 0, 0],\n",
       "        [0, 1, 0],\n",
       "        [0, 1, 0],\n",
       "        [1, 0, 0],\n",
       "        [0, 1, 0],\n",
       "        [0, 0, 1],\n",
       "        [0, 1, 0],\n",
       "        [0, 0, 1],\n",
       "        [0, 1, 0],\n",
       "        [0, 0, 1],\n",
       "        [0, 1, 0],\n",
       "        [0, 1, 0],\n",
       "        [0, 0, 1],\n",
       "        [1, 0, 0],\n",
       "        [0, 1, 0],\n",
       "        [1, 0, 0],\n",
       "        [0, 1, 0],\n",
       "        [1, 0, 0],\n",
       "        [0, 1, 0],\n",
       "        [0, 0, 1],\n",
       "        [0, 1, 0],\n",
       "        [0, 0, 1],\n",
       "        [1, 0, 0],\n",
       "        [0, 0, 1],\n",
       "        [0, 0, 1],\n",
       "        [0, 1, 0],\n",
       "        [0, 1, 0],\n",
       "        [0, 0, 1],\n",
       "        [1, 0, 0],\n",
       "        [1, 0, 0],\n",
       "        [0, 1, 0],\n",
       "        [0, 1, 0],\n",
       "        [0, 1, 0],\n",
       "        [0, 1, 0],\n",
       "        [0, 1, 0],\n",
       "        [0, 1, 0],\n",
       "        [1, 0, 0],\n",
       "        [1, 0, 0]])"
      ]
     },
     "execution_count": 6,
     "metadata": {},
     "output_type": "execute_result"
    }
   ],
   "source": [
    "torch.nn.functional.one_hot(torch.LongTensor(y_train))"
   ]
  },
  {
   "cell_type": "code",
   "execution_count": 10,
   "id": "4283a8a8",
   "metadata": {},
   "outputs": [
    {
     "data": {
      "text/plain": [
       "(torch.Size([120, 4]), torch.Size([120, 3]))"
      ]
     },
     "execution_count": 10,
     "metadata": {},
     "output_type": "execute_result"
    }
   ],
   "source": [
    "X_train = torch.FloatTensor(X_train)\n",
    "y_train_encoding = torch.FloatTensor(y_train_encoding.values)\n",
    "X_test = torch.FloatTensor(X_test)\n",
    "y_test_encoding = torch.FloatTensor(y_test_encoding.values)\n",
    "X_train.shape, y_train_encoding.shape"
   ]
  },
  {
   "cell_type": "code",
   "execution_count": 11,
   "id": "43ea3224",
   "metadata": {},
   "outputs": [],
   "source": [
    "model = torch.nn.Sequential(\n",
    "    torch.nn.Linear(4, 3),\n",
    "    torch.nn.Softmax(dim=1)\n",
    ")"
   ]
  },
  {
   "cell_type": "code",
   "execution_count": 12,
   "id": "12269fa3",
   "metadata": {},
   "outputs": [],
   "source": [
    "loss_function = torch.nn.MSELoss(reduction='sum')\n",
    "optimizer = torch.optim.Adam(model.parameters(), lr=0.01)"
   ]
  },
  {
   "cell_type": "code",
   "execution_count": 13,
   "id": "098044f1",
   "metadata": {},
   "outputs": [
    {
     "name": "stderr",
     "output_type": "stream",
     "text": [
      "C:\\Users\\Admin\\Anaconda3\\envs\\pytorch\\lib\\site-packages\\torch\\autograd\\__init__.py:132: UserWarning: CUDA initialization: The NVIDIA driver on your system is too old (found version 8000). Please update your GPU driver by downloading and installing a new version from the URL: http://www.nvidia.com/Download/index.aspx Alternatively, go to: https://pytorch.org to install a PyTorch version that has been compiled with your version of the CUDA driver. (Triggered internally at  ..\\c10\\cuda\\CUDAFunctions.cpp:100.)\n",
      "  allow_unreachable=True)  # allow_unreachable flag\n"
     ]
    },
    {
     "name": "stdout",
     "output_type": "stream",
     "text": [
      "67.68017578125\n",
      "25.262420654296875\n",
      "14.92205810546875\n",
      "10.883523941040039\n",
      "8.873440742492676\n",
      "7.697877407073975\n",
      "6.934795379638672\n",
      "6.402071475982666\n",
      "6.009738445281982\n",
      "5.708810806274414\n"
     ]
    }
   ],
   "source": [
    "epochs = 1000\n",
    "accuracy = []\n",
    "losses = []\n",
    "for i in range(epochs):\n",
    "    y_pred = model(X_train)\n",
    "    loss = loss_function(y_pred, y_train_encoding)\n",
    "    accuracy.append((np.argmax(y_pred.detach().numpy(), axis=1) == y_train).sum()/y_train.shape[0]*100)\n",
    "    losses.append(loss.item())\n",
    "    optimizer.zero_grad()\n",
    "    loss.backward()\n",
    "    optimizer.step()\n",
    "    if i % 100 == 0:\n",
    "        print(loss.item())"
   ]
  },
  {
   "cell_type": "code",
   "execution_count": 15,
   "id": "4c3ad220",
   "metadata": {},
   "outputs": [
    {
     "data": {
      "image/png": "[encoded data removed]",
      "text/plain": [
       "<Figure size 864x432 with 2 Axes>"
      ]
     },
     "metadata": {
      "needs_background": "light"
     },
     "output_type": "display_data"
    }
   ],
   "source": [
    "import matplotlib.pyplot as plt\n",
    "from matplotlib.font_manager import FontProperties\n",
    "\n",
    "plt.figure(figsize=(12, 6))\n",
    "plt.subplot(1, 2, 1)\n",
    "plt.title('loss', fontsize=20)\n",
    "plt.plot(range(0, epochs), losses)\n",
    "\n",
    "plt.subplot(1, 2, 2)\n",
    "plt.title('accuracy', fontsize=20)\n",
    "plt.plot(range(0, epochs), accuracy)\n",
    "plt.ylim(0, 100)\n",
    "plt.show()"
   ]
  },
  {
   "cell_type": "code",
   "execution_count": 16,
   "id": "fea429aa",
   "metadata": {},
   "outputs": [
    {
     "name": "stdout",
     "output_type": "stream",
     "text": [
      "Test Data Accuracy: 1.00\n"
     ]
    }
   ],
   "source": [
    "predict_test = model(X_test)\n",
    "_, y_pred = torch.max(predict_test, 1)\n",
    "print(f'Test Data Accuracy: {((y_pred.numpy() == y_test).sum()/y_test.shape[0]):.2f}')"
   ]
  },
  {
   "cell_type": "code",
   "execution_count": null,
   "id": "378e6a5a",
   "metadata": {},
   "outputs": [],
   "source": []
  }
 ],
 "metadata": {
  "kernelspec": {
   "display_name": "Python 3",
   "language": "python",
   "name": "python3"
  },
  "language_info": {
   "codemirror_mode": {
    "name": "ipython",
    "version": 3
   },
   "file_extension": ".py",
   "mimetype": "text/x-python",
   "name": "python",
   "nbconvert_exporter": "python",
   "pygments_lexer": "ipython3",
   "version": "3.6.13"
  }
 },
 "nbformat": 4,
 "nbformat_minor": 5
}
