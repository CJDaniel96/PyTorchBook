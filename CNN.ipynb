{
 "cells": [
  {
   "cell_type": "code",
   "execution_count": 1,
   "metadata": {},
   "outputs": [
    {
     "name": "stdout",
     "output_type": "stream",
     "text": [
      "Source Data:\n",
      "[[1 1 1 0 0]\n",
      " [0 1 1 1 0]\n",
      " [0 0 1 1 1]\n",
      " [0 0 1 1 0]\n",
      " [0 1 1 0 0]]\n",
      "Filiter:\n",
      "[[1 0 1]\n",
      " [0 1 0]\n",
      " [1 0 1]]\n"
     ]
    }
   ],
   "source": [
    "import numpy as np\n",
    "\n",
    "\n",
    "source_map = np.array(list('1110001110001110011001100')).astype(np.int)\n",
    "source_map = source_map.reshape(5, 5)\n",
    "print('Source Data:')\n",
    "print(source_map)\n",
    "\n",
    "filter1 = np.array(list('101010101')).astype(np.int).reshape(3, 3)\n",
    "print('Filiter:')\n",
    "print(filter1)"
   ]
  },
  {
   "cell_type": "code",
   "execution_count": 2,
   "metadata": {},
   "outputs": [
    {
     "name": "stdout",
     "output_type": "stream",
     "text": [
      "[[4. 3. 4.]\n",
      " [2. 4. 3.]\n",
      " [2. 3. 4.]]\n"
     ]
    }
   ],
   "source": [
    "width = height = source_map.shape[0] - filter1.shape[0] + 1\n",
    "result = np.zeros((width, height))\n",
    "\n",
    "for i in range(width):\n",
    "    for j in range(height):\n",
    "        value1 = source_map[i:i + filter1.shape[0], j:j + filter1.shape[1]] * filter1\n",
    "        result[i, j] = np.sum(value1)\n",
    "\n",
    "print(result)"
   ]
  },
  {
   "cell_type": "code",
   "execution_count": 4,
   "metadata": {},
   "outputs": [
    {
     "data": {
      "text/plain": [
       "array([[4, 3, 4],\n",
       "       [2, 4, 3],\n",
       "       [2, 3, 4]])"
      ]
     },
     "execution_count": 4,
     "metadata": {},
     "output_type": "execute_result"
    }
   ],
   "source": [
    "from scipy.signal import convolve2d\n",
    "\n",
    "\n",
    "convolve2d(source_map, filter1, mode='valid')"
   ]
  },
  {
   "cell_type": "code",
   "execution_count": null,
   "metadata": {},
   "outputs": [],
   "source": []
  }
 ],
 "metadata": {
  "kernelspec": {
   "display_name": "Python 3.6.13 ('pytorch')",
   "language": "python",
   "name": "python3"
  },
  "language_info": {
   "codemirror_mode": {
    "name": "ipython",
    "version": 3
   },
   "file_extension": ".py",
   "mimetype": "text/x-python",
   "name": "python",
   "nbconvert_exporter": "python",
   "pygments_lexer": "ipython3",
   "version": "3.6.13"
  },
  "orig_nbformat": 4,
  "vscode": {
   "interpreter": {
    "hash": "1812d6e65952ff48a1934bc613de9c7ab75887a2148df7af7eeaf7bfe49cc8ea"
   }
  }
 },
 "nbformat": 4,
 "nbformat_minor": 2
}
