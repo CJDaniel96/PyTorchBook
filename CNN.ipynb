{
 "cells": [
  {
   "cell_type": "code",
   "execution_count": 1,
   "metadata": {},
   "outputs": [
    {
     "name": "stdout",
     "output_type": "stream",
     "text": [
      "Source Data:\n",
      "[[1 1 1 0 0]\n",
      " [0 1 1 1 0]\n",
      " [0 0 1 1 1]\n",
      " [0 0 1 1 0]\n",
      " [0 1 1 0 0]]\n",
      "Filiter:\n",
      "[[1 0 1]\n",
      " [0 1 0]\n",
      " [1 0 1]]\n"
     ]
    }
   ],
   "source": [
    "import numpy as np\n",
    "\n",
    "\n",
    "source_map = np.array(list('1110001110001110011001100')).astype(np.int)\n",
    "source_map = source_map.reshape(5, 5)\n",
    "print('Source Data:')\n",
    "print(source_map)\n",
    "\n",
    "filter1 = np.array(list('101010101')).astype(np.int).reshape(3, 3)\n",
    "print('Filiter:')\n",
    "print(filter1)"
   ]
  },
  {
   "cell_type": "code",
   "execution_count": 2,
   "metadata": {},
   "outputs": [
    {
     "name": "stdout",
     "output_type": "stream",
     "text": [
      "[[4. 3. 4.]\n",
      " [2. 4. 3.]\n",
      " [2. 3. 4.]]\n"
     ]
    }
   ],
   "source": [
    "width = height = source_map.shape[0] - filter1.shape[0] + 1\n",
    "result = np.zeros((width, height))\n",
    "\n",
    "for i in range(width):\n",
    "    for j in range(height):\n",
    "        value1 = source_map[i:i + filter1.shape[0], j:j + filter1.shape[1]] * filter1\n",
    "        result[i, j] = np.sum(value1)\n",
    "\n",
    "print(result)"
   ]
  },
  {
   "cell_type": "code",
   "execution_count": 4,
   "metadata": {},
   "outputs": [
    {
     "data": {
      "text/plain": [
       "array([[4, 3, 4],\n",
       "       [2, 4, 3],\n",
       "       [2, 3, 4]])"
      ]
     },
     "execution_count": 4,
     "metadata": {},
     "output_type": "execute_result"
    }
   ],
   "source": [
    "from scipy.signal import convolve2d\n",
    "\n",
    "\n",
    "convolve2d(source_map, filter1, mode='valid')"
   ]
  },
  {
   "cell_type": "markdown",
   "metadata": {},
   "source": [
    "## Convolutions"
   ]
  },
  {
   "cell_type": "code",
   "execution_count": 4,
   "metadata": {},
   "outputs": [],
   "source": [
    "from skimage.exposure import rescale_intensity\n",
    "import numpy as np\n",
    "import cv2\n",
    "\n",
    "def convolve(image, kernel):\n",
    "    (iH, iW) = image.shape[:2]\n",
    "    (kH, kW) = kernel.shape[:2]\n",
    "    \n",
    "    pad = int((kW - 1) / 2)\n",
    "    image = cv2.copyMakeBorder(image, pad, pad, pad, pad, cv2.BORDER_REPLICATE)\n",
    "    output = np.zeros((iH, iW), dtype='float32')\n",
    "    \n",
    "    for y in np.arange(pad, iH + pad):\n",
    "        for x in np.arange(pad, iW + pad):\n",
    "            roi  = image[y - pad:y + pad + 1, x - pad:x + pad + 1]\n",
    "            k = (roi * kernel).sum()\n",
    "            output[y - pad, x - pad] = k\n",
    "            \n",
    "    output = rescale_intensity(output, in_range=(0, 255))\n",
    "    output = (output * 255).astype('uint8')\n",
    "    \n",
    "    return output"
   ]
  },
  {
   "cell_type": "code",
   "execution_count": 2,
   "metadata": {},
   "outputs": [],
   "source": [
    "import skimage\n",
    "import cv2\n",
    "\n",
    "\n",
    "image = skimage.data.chelsea()\n",
    "cv2.imshow('original', image)\n",
    "\n",
    "gray = cv2.cvtColor(image, cv2.COLOR_BGR2GRAY)\n",
    "cv2.imshow('gray', gray)\n",
    "\n",
    "cv2.waitKey(0)\n",
    "cv2.destroyAllWindows()"
   ]
  },
  {
   "cell_type": "code",
   "execution_count": 5,
   "metadata": {},
   "outputs": [],
   "source": [
    "smallBlur = np.ones((7, 7), dtype='float') * (1.0 / (7 * 7))\n",
    "\n",
    "convoleOutput = convolve(gray, smallBlur)\n",
    "opencvOutput = cv2.filter2D(gray, -1, smallBlur)\n",
    "cv2.imshow('little Blur', convoleOutput)\n",
    "\n",
    "largeBlur = np.ones((21, 21), dtype='float') * (1.0 / (21 * 21))\n",
    "\n",
    "convoleOutput = convolve(gray, largeBlur)\n",
    "opencvOutput = cv2.filter2D(gray, -1, largeBlur)\n",
    "cv2.imshow('little Blur', convoleOutput)\n",
    "\n",
    "cv2.waitKey(0)\n",
    "cv2.destroyAllWindows()"
   ]
  },
  {
   "cell_type": "code",
   "execution_count": 6,
   "metadata": {},
   "outputs": [],
   "source": [
    "sharpen = np.array((\n",
    "    [0, -1, 0],\n",
    "    [-1, 5, -1],\n",
    "    [0, -1, 0]\n",
    "), dtype='int')\n",
    "\n",
    "convoleOutput = convolve(gray, sharpen)\n",
    "opencvOutput = cv2.filter2D(gray, -1, sharpen)\n",
    "cv2.imshow('sharpen', convoleOutput)\n",
    "\n",
    "cv2.waitKey(0)\n",
    "cv2.destroyAllWindows()"
   ]
  },
  {
   "cell_type": "code",
   "execution_count": 13,
   "metadata": {},
   "outputs": [],
   "source": [
    "sharpen = np.array((\n",
    "    [0, 1, 0],\n",
    "    [1, 4, 1],\n",
    "    [0, 1, 0]\n",
    "), dtype='int')\n",
    "\n",
    "convoleOutput = convolve(gray, sharpen)\n",
    "opencvOutput = cv2.filter2D(gray, -1, sharpen)\n",
    "cv2.imshow('sharpen', convoleOutput)\n",
    "\n",
    "cv2.waitKey(0)\n",
    "cv2.destroyAllWindows()"
   ]
  },
  {
   "cell_type": "code",
   "execution_count": 14,
   "metadata": {},
   "outputs": [],
   "source": [
    "sharpen = np.array((\n",
    "    [-1, 0, 1],\n",
    "    [-2, 0, 2],\n",
    "    [-1, 0, 1]\n",
    "), dtype='int')\n",
    "\n",
    "convoleOutput = convolve(gray, sharpen)\n",
    "opencvOutput = cv2.filter2D(gray, -1, sharpen)\n",
    "cv2.imshow('sharpen', convoleOutput)\n",
    "\n",
    "cv2.waitKey(0)\n",
    "cv2.destroyAllWindows()"
   ]
  },
  {
   "cell_type": "code",
   "execution_count": 15,
   "metadata": {},
   "outputs": [],
   "source": [
    "sharpen = np.array((\n",
    "    [-1, -2, 1],\n",
    "    [0, 0, 0],\n",
    "    [-1, 2, 1]\n",
    "), dtype='int')\n",
    "\n",
    "convoleOutput = convolve(gray, sharpen)\n",
    "opencvOutput = cv2.filter2D(gray, -1, sharpen)\n",
    "cv2.imshow('sharpen', convoleOutput)\n",
    "\n",
    "cv2.waitKey(0)\n",
    "cv2.destroyAllWindows()"
   ]
  },
  {
   "cell_type": "markdown",
   "metadata": {},
   "source": [
    "## Pooling Layer"
   ]
  },
  {
   "cell_type": "code",
   "execution_count": null,
   "metadata": {},
   "outputs": [],
   "source": []
  }
 ],
 "metadata": {
  "kernelspec": {
   "display_name": "Python 3",
   "language": "python",
   "name": "python3"
  },
  "language_info": {
   "codemirror_mode": {
    "name": "ipython",
    "version": 3
   },
   "file_extension": ".py",
   "mimetype": "text/x-python",
   "name": "python",
   "nbconvert_exporter": "python",
   "pygments_lexer": "ipython3",
   "version": "3.6.13"
  },
  "vscode": {
   "interpreter": {
    "hash": "1812d6e65952ff48a1934bc613de9c7ab75887a2148df7af7eeaf7bfe49cc8ea"
   }
  }
 },
 "nbformat": 4,
 "nbformat_minor": 2
}
